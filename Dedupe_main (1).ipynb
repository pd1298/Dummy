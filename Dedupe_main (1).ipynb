{
  "cells": [
    {
      "cell_type": "code",
      "execution_count": 5,
      "metadata": {
        "id": "H5QMbBFvAb8t"
      },
      "outputs": [],
      "source": [
        "from scipy.sparse import csr_matrix\n",
        "import sparse_dot_topn.sparse_dot_topn as ct\n",
        "from sklearn.feature_extraction.text import TfidfVectorizer"
      ]
    },
    {
      "cell_type": "code",
      "source": [
        "import pandas as pd"
      ],
      "metadata": {
        "id": "yXUjVaRMDNz3"
      },
      "execution_count": 7,
      "outputs": []
    },
    {
      "cell_type": "code",
      "source": [
        "import numpy as np"
      ],
      "metadata": {
        "id": "rXtwvJCxJ7cf"
      },
      "execution_count": 52,
      "outputs": []
    },
    {
      "cell_type": "code",
      "source": [
        "!pip install sparse_dot_topn"
      ],
      "metadata": {
        "colab": {
          "base_uri": "https://localhost:8080/"
        },
        "id": "lh6M6vetCcbf",
        "outputId": "c3e672dd-410f-415d-e578-7dfa4058f8c0"
      },
      "execution_count": 4,
      "outputs": [
        {
          "output_type": "stream",
          "name": "stdout",
          "text": [
            "Collecting sparse_dot_topn\n",
            "  Downloading sparse_dot_topn-0.3.1.tar.gz (17 kB)\n",
            "  Installing build dependencies ... \u001b[?25l\u001b[?25hdone\n",
            "  Getting requirements to build wheel ... \u001b[?25l\u001b[?25hdone\n",
            "  Installing backend dependencies ... \u001b[?25l\u001b[?25hdone\n",
            "    Preparing wheel metadata ... \u001b[?25l\u001b[?25hdone\n",
            "Requirement already satisfied: numpy>=1.16.6 in /usr/local/lib/python3.7/dist-packages (from sparse_dot_topn) (1.21.6)\n",
            "Requirement already satisfied: setuptools>=42 in /usr/local/lib/python3.7/dist-packages (from sparse_dot_topn) (57.4.0)\n",
            "Requirement already satisfied: cython>=0.29.15 in /usr/local/lib/python3.7/dist-packages (from sparse_dot_topn) (0.29.28)\n",
            "Requirement already satisfied: scipy>=1.2.3 in /usr/local/lib/python3.7/dist-packages (from sparse_dot_topn) (1.4.1)\n",
            "Building wheels for collected packages: sparse-dot-topn\n",
            "  Building wheel for sparse-dot-topn (PEP 517) ... \u001b[?25l\u001b[?25hdone\n",
            "  Created wheel for sparse-dot-topn: filename=sparse_dot_topn-0.3.1-cp37-cp37m-linux_x86_64.whl size=1582098 sha256=50dbd37e444df1ddb12769e9b58336c3329caece713cd2f918ab53f0725f85c0\n",
            "  Stored in directory: /root/.cache/pip/wheels/3b/3e/02/4ee8cb28ed8b608d530bc43402518a895db8ce89aff8ca4e1f\n",
            "Successfully built sparse-dot-topn\n",
            "Installing collected packages: sparse-dot-topn\n",
            "Successfully installed sparse-dot-topn-0.3.1\n"
          ]
        }
      ]
    },
    {
      "cell_type": "code",
      "execution_count": 44,
      "metadata": {
        "id": "XJLbcuT8Ab8x"
      },
      "outputs": [],
      "source": [
        "df = pd.read_csv('/content/drive/MyDrive/Seattle_Hotels_Duplicates.csv', encoding=\"latin-1\")"
      ]
    },
    {
      "cell_type": "code",
      "execution_count": 45,
      "metadata": {
        "id": "n9JvkVOaAb8y",
        "outputId": "47838a66-c418-4b66-f13f-41559aff9ced",
        "colab": {
          "base_uri": "https://localhost:8080/",
          "height": 143
        }
      },
      "outputs": [
        {
          "output_type": "execute_result",
          "data": {
            "text/plain": [
              "                                 name  \\\n",
              "0  Hilton Garden Inn Seattle Downtown   \n",
              "1              Sheraton Grand Seattle   \n",
              "2       Crowne Plaza Seattle Downtown   \n",
              "\n",
              "                                           address  \n",
              "0  1821 Boren Avenue, Seattle Washington 98101 USA  \n",
              "1   1400 6th Avenue, Seattle, Washington 98101 USA  \n",
              "2                  1113 6th Ave, Seattle, WA 98101  "
            ],
            "text/html": [
              "\n",
              "  <div id=\"df-70b5e72c-7a6e-4558-8dc5-44f84052b4c5\">\n",
              "    <div class=\"colab-df-container\">\n",
              "      <div>\n",
              "<style scoped>\n",
              "    .dataframe tbody tr th:only-of-type {\n",
              "        vertical-align: middle;\n",
              "    }\n",
              "\n",
              "    .dataframe tbody tr th {\n",
              "        vertical-align: top;\n",
              "    }\n",
              "\n",
              "    .dataframe thead th {\n",
              "        text-align: right;\n",
              "    }\n",
              "</style>\n",
              "<table border=\"1\" class=\"dataframe\">\n",
              "  <thead>\n",
              "    <tr style=\"text-align: right;\">\n",
              "      <th></th>\n",
              "      <th>name</th>\n",
              "      <th>address</th>\n",
              "    </tr>\n",
              "  </thead>\n",
              "  <tbody>\n",
              "    <tr>\n",
              "      <th>0</th>\n",
              "      <td>Hilton Garden Inn Seattle Downtown</td>\n",
              "      <td>1821 Boren Avenue, Seattle Washington 98101 USA</td>\n",
              "    </tr>\n",
              "    <tr>\n",
              "      <th>1</th>\n",
              "      <td>Sheraton Grand Seattle</td>\n",
              "      <td>1400 6th Avenue, Seattle, Washington 98101 USA</td>\n",
              "    </tr>\n",
              "    <tr>\n",
              "      <th>2</th>\n",
              "      <td>Crowne Plaza Seattle Downtown</td>\n",
              "      <td>1113 6th Ave, Seattle, WA 98101</td>\n",
              "    </tr>\n",
              "  </tbody>\n",
              "</table>\n",
              "</div>\n",
              "      <button class=\"colab-df-convert\" onclick=\"convertToInteractive('df-70b5e72c-7a6e-4558-8dc5-44f84052b4c5')\"\n",
              "              title=\"Convert this dataframe to an interactive table.\"\n",
              "              style=\"display:none;\">\n",
              "        \n",
              "  <svg xmlns=\"http://www.w3.org/2000/svg\" height=\"24px\"viewBox=\"0 0 24 24\"\n",
              "       width=\"24px\">\n",
              "    <path d=\"M0 0h24v24H0V0z\" fill=\"none\"/>\n",
              "    <path d=\"M18.56 5.44l.94 2.06.94-2.06 2.06-.94-2.06-.94-.94-2.06-.94 2.06-2.06.94zm-11 1L8.5 8.5l.94-2.06 2.06-.94-2.06-.94L8.5 2.5l-.94 2.06-2.06.94zm10 10l.94 2.06.94-2.06 2.06-.94-2.06-.94-.94-2.06-.94 2.06-2.06.94z\"/><path d=\"M17.41 7.96l-1.37-1.37c-.4-.4-.92-.59-1.43-.59-.52 0-1.04.2-1.43.59L10.3 9.45l-7.72 7.72c-.78.78-.78 2.05 0 2.83L4 21.41c.39.39.9.59 1.41.59.51 0 1.02-.2 1.41-.59l7.78-7.78 2.81-2.81c.8-.78.8-2.07 0-2.86zM5.41 20L4 18.59l7.72-7.72 1.47 1.35L5.41 20z\"/>\n",
              "  </svg>\n",
              "      </button>\n",
              "      \n",
              "  <style>\n",
              "    .colab-df-container {\n",
              "      display:flex;\n",
              "      flex-wrap:wrap;\n",
              "      gap: 12px;\n",
              "    }\n",
              "\n",
              "    .colab-df-convert {\n",
              "      background-color: #E8F0FE;\n",
              "      border: none;\n",
              "      border-radius: 50%;\n",
              "      cursor: pointer;\n",
              "      display: none;\n",
              "      fill: #1967D2;\n",
              "      height: 32px;\n",
              "      padding: 0 0 0 0;\n",
              "      width: 32px;\n",
              "    }\n",
              "\n",
              "    .colab-df-convert:hover {\n",
              "      background-color: #E2EBFA;\n",
              "      box-shadow: 0px 1px 2px rgba(60, 64, 67, 0.3), 0px 1px 3px 1px rgba(60, 64, 67, 0.15);\n",
              "      fill: #174EA6;\n",
              "    }\n",
              "\n",
              "    [theme=dark] .colab-df-convert {\n",
              "      background-color: #3B4455;\n",
              "      fill: #D2E3FC;\n",
              "    }\n",
              "\n",
              "    [theme=dark] .colab-df-convert:hover {\n",
              "      background-color: #434B5C;\n",
              "      box-shadow: 0px 1px 3px 1px rgba(0, 0, 0, 0.15);\n",
              "      filter: drop-shadow(0px 1px 2px rgba(0, 0, 0, 0.3));\n",
              "      fill: #FFFFFF;\n",
              "    }\n",
              "  </style>\n",
              "\n",
              "      <script>\n",
              "        const buttonEl =\n",
              "          document.querySelector('#df-70b5e72c-7a6e-4558-8dc5-44f84052b4c5 button.colab-df-convert');\n",
              "        buttonEl.style.display =\n",
              "          google.colab.kernel.accessAllowed ? 'block' : 'none';\n",
              "\n",
              "        async function convertToInteractive(key) {\n",
              "          const element = document.querySelector('#df-70b5e72c-7a6e-4558-8dc5-44f84052b4c5');\n",
              "          const dataTable =\n",
              "            await google.colab.kernel.invokeFunction('convertToInteractive',\n",
              "                                                     [key], {});\n",
              "          if (!dataTable) return;\n",
              "\n",
              "          const docLinkHtml = 'Like what you see? Visit the ' +\n",
              "            '<a target=\"_blank\" href=https://colab.research.google.com/notebooks/data_table.ipynb>data table notebook</a>'\n",
              "            + ' to learn more about interactive tables.';\n",
              "          element.innerHTML = '';\n",
              "          dataTable['output_type'] = 'display_data';\n",
              "          await google.colab.output.renderOutput(dataTable, element);\n",
              "          const docLink = document.createElement('div');\n",
              "          docLink.innerHTML = docLinkHtml;\n",
              "          element.appendChild(docLink);\n",
              "        }\n",
              "      </script>\n",
              "    </div>\n",
              "  </div>\n",
              "  "
            ]
          },
          "metadata": {},
          "execution_count": 45
        }
      ],
      "source": [
        "df.head(3)"
      ]
    },
    {
      "cell_type": "code",
      "execution_count": 46,
      "metadata": {
        "id": "DmGJcqiLAb8z",
        "outputId": "50a43202-0962-4f0a-ec55-87a7e41e6fcb",
        "colab": {
          "base_uri": "https://localhost:8080/"
        }
      },
      "outputs": [
        {
          "output_type": "execute_result",
          "data": {
            "text/plain": [
              "Hilton Garden Inn Seattle Downtown                     2\n",
              "Ace Hotel Seattle                                      2\n",
              "citizenM Seattle South Lake Union hotel                2\n",
              "Hyatt Regency Lake Washington At SeattleS Southport    2\n",
              "Quality Inn & Suites Seattle Center                    2\n",
              "                                                      ..\n",
              "DoubleTree by Hilton Hotel Seattle Airport             1\n",
              "Radisson Hotel Seattle Airport                         1\n",
              "Crowne Plaza Seattle Airport                           1\n",
              "Hilton Seattle Airport & Conference Center             1\n",
              "MarQueen Hotel                                         1\n",
              "Name: name, Length: 155, dtype: int64"
            ]
          },
          "metadata": {},
          "execution_count": 46
        }
      ],
      "source": [
        "df.name.value_counts()"
      ]
    },
    {
      "cell_type": "code",
      "source": [
        "from google.colab import drive\n",
        "drive.mount('/content/drive')"
      ],
      "metadata": {
        "id": "GrxNYYbmB4DP",
        "colab": {
          "base_uri": "https://localhost:8080/"
        },
        "outputId": "bce8d056-fe6f-46a3-c8f4-479940a31f76"
      },
      "execution_count": 47,
      "outputs": [
        {
          "output_type": "stream",
          "name": "stdout",
          "text": [
            "Drive already mounted at /content/drive; to attempt to forcibly remount, call drive.mount(\"/content/drive\", force_remount=True).\n"
          ]
        }
      ]
    },
    {
      "cell_type": "code",
      "execution_count": 48,
      "metadata": {
        "id": "a3BJRxWyAb80",
        "outputId": "35d49218-3dd9-4762-a0b1-a8516918a3bb",
        "colab": {
          "base_uri": "https://localhost:8080/",
          "height": 112
        }
      },
      "outputs": [
        {
          "output_type": "execute_result",
          "data": {
            "text/plain": [
              "                  name                                          address\n",
              "82  Roy Street Commons                621 12th Ave E, Seattle, WA 98102\n",
              "90  Roy Street Commons  621 12th Avenue East, Seattle, Washington 98102"
            ],
            "text/html": [
              "\n",
              "  <div id=\"df-dbf8c973-44e3-49f7-986d-4da9f8aabd27\">\n",
              "    <div class=\"colab-df-container\">\n",
              "      <div>\n",
              "<style scoped>\n",
              "    .dataframe tbody tr th:only-of-type {\n",
              "        vertical-align: middle;\n",
              "    }\n",
              "\n",
              "    .dataframe tbody tr th {\n",
              "        vertical-align: top;\n",
              "    }\n",
              "\n",
              "    .dataframe thead th {\n",
              "        text-align: right;\n",
              "    }\n",
              "</style>\n",
              "<table border=\"1\" class=\"dataframe\">\n",
              "  <thead>\n",
              "    <tr style=\"text-align: right;\">\n",
              "      <th></th>\n",
              "      <th>name</th>\n",
              "      <th>address</th>\n",
              "    </tr>\n",
              "  </thead>\n",
              "  <tbody>\n",
              "    <tr>\n",
              "      <th>82</th>\n",
              "      <td>Roy Street Commons</td>\n",
              "      <td>621 12th Ave E, Seattle, WA 98102</td>\n",
              "    </tr>\n",
              "    <tr>\n",
              "      <th>90</th>\n",
              "      <td>Roy Street Commons</td>\n",
              "      <td>621 12th Avenue East, Seattle, Washington 98102</td>\n",
              "    </tr>\n",
              "  </tbody>\n",
              "</table>\n",
              "</div>\n",
              "      <button class=\"colab-df-convert\" onclick=\"convertToInteractive('df-dbf8c973-44e3-49f7-986d-4da9f8aabd27')\"\n",
              "              title=\"Convert this dataframe to an interactive table.\"\n",
              "              style=\"display:none;\">\n",
              "        \n",
              "  <svg xmlns=\"http://www.w3.org/2000/svg\" height=\"24px\"viewBox=\"0 0 24 24\"\n",
              "       width=\"24px\">\n",
              "    <path d=\"M0 0h24v24H0V0z\" fill=\"none\"/>\n",
              "    <path d=\"M18.56 5.44l.94 2.06.94-2.06 2.06-.94-2.06-.94-.94-2.06-.94 2.06-2.06.94zm-11 1L8.5 8.5l.94-2.06 2.06-.94-2.06-.94L8.5 2.5l-.94 2.06-2.06.94zm10 10l.94 2.06.94-2.06 2.06-.94-2.06-.94-.94-2.06-.94 2.06-2.06.94z\"/><path d=\"M17.41 7.96l-1.37-1.37c-.4-.4-.92-.59-1.43-.59-.52 0-1.04.2-1.43.59L10.3 9.45l-7.72 7.72c-.78.78-.78 2.05 0 2.83L4 21.41c.39.39.9.59 1.41.59.51 0 1.02-.2 1.41-.59l7.78-7.78 2.81-2.81c.8-.78.8-2.07 0-2.86zM5.41 20L4 18.59l7.72-7.72 1.47 1.35L5.41 20z\"/>\n",
              "  </svg>\n",
              "      </button>\n",
              "      \n",
              "  <style>\n",
              "    .colab-df-container {\n",
              "      display:flex;\n",
              "      flex-wrap:wrap;\n",
              "      gap: 12px;\n",
              "    }\n",
              "\n",
              "    .colab-df-convert {\n",
              "      background-color: #E8F0FE;\n",
              "      border: none;\n",
              "      border-radius: 50%;\n",
              "      cursor: pointer;\n",
              "      display: none;\n",
              "      fill: #1967D2;\n",
              "      height: 32px;\n",
              "      padding: 0 0 0 0;\n",
              "      width: 32px;\n",
              "    }\n",
              "\n",
              "    .colab-df-convert:hover {\n",
              "      background-color: #E2EBFA;\n",
              "      box-shadow: 0px 1px 2px rgba(60, 64, 67, 0.3), 0px 1px 3px 1px rgba(60, 64, 67, 0.15);\n",
              "      fill: #174EA6;\n",
              "    }\n",
              "\n",
              "    [theme=dark] .colab-df-convert {\n",
              "      background-color: #3B4455;\n",
              "      fill: #D2E3FC;\n",
              "    }\n",
              "\n",
              "    [theme=dark] .colab-df-convert:hover {\n",
              "      background-color: #434B5C;\n",
              "      box-shadow: 0px 1px 3px 1px rgba(0, 0, 0, 0.15);\n",
              "      filter: drop-shadow(0px 1px 2px rgba(0, 0, 0, 0.3));\n",
              "      fill: #FFFFFF;\n",
              "    }\n",
              "  </style>\n",
              "\n",
              "      <script>\n",
              "        const buttonEl =\n",
              "          document.querySelector('#df-dbf8c973-44e3-49f7-986d-4da9f8aabd27 button.colab-df-convert');\n",
              "        buttonEl.style.display =\n",
              "          google.colab.kernel.accessAllowed ? 'block' : 'none';\n",
              "\n",
              "        async function convertToInteractive(key) {\n",
              "          const element = document.querySelector('#df-dbf8c973-44e3-49f7-986d-4da9f8aabd27');\n",
              "          const dataTable =\n",
              "            await google.colab.kernel.invokeFunction('convertToInteractive',\n",
              "                                                     [key], {});\n",
              "          if (!dataTable) return;\n",
              "\n",
              "          const docLinkHtml = 'Like what you see? Visit the ' +\n",
              "            '<a target=\"_blank\" href=https://colab.research.google.com/notebooks/data_table.ipynb>data table notebook</a>'\n",
              "            + ' to learn more about interactive tables.';\n",
              "          element.innerHTML = '';\n",
              "          dataTable['output_type'] = 'display_data';\n",
              "          await google.colab.output.renderOutput(dataTable, element);\n",
              "          const docLink = document.createElement('div');\n",
              "          docLink.innerHTML = docLinkHtml;\n",
              "          element.appendChild(docLink);\n",
              "        }\n",
              "      </script>\n",
              "    </div>\n",
              "  </div>\n",
              "  "
            ]
          },
          "metadata": {},
          "execution_count": 48
        }
      ],
      "source": [
        "df.loc[df['name'] == 'Roy Street Commons']"
      ]
    },
    {
      "cell_type": "code",
      "execution_count": 49,
      "metadata": {
        "id": "Oj92A3yEAb80"
      },
      "outputs": [],
      "source": [
        "from sklearn.feature_extraction.text import TfidfVectorizer \n",
        "df['name_address'] = df['name'] + ' ' + df['address']\n",
        "name_address = df['name_address']\n",
        "vectorizer = TfidfVectorizer(analyzer = 'char', ngram_range=(1, 4), sublinear_tf=True)\n",
        "tf_idf_matrix = vectorizer.fit_transform(name_address)"
      ]
    },
    {
      "cell_type": "code",
      "execution_count": 50,
      "metadata": {
        "id": "eydS6Y-yAb81",
        "outputId": "37265844-fa16-4092-ffaf-75904cfda89e",
        "colab": {
          "base_uri": "https://localhost:8080/"
        }
      },
      "outputs": [
        {
          "output_type": "execute_result",
          "data": {
            "text/plain": [
              "<168x4957 sparse matrix of type '<class 'numpy.float64'>'\n",
              "\twith 32557 stored elements in Compressed Sparse Row format>"
            ]
          },
          "metadata": {},
          "execution_count": 50
        }
      ],
      "source": [
        "tf_idf_matrix"
      ]
    },
    {
      "cell_type": "code",
      "source": [
        ""
      ],
      "metadata": {
        "id": "t4xekqUJEUTv"
      },
      "execution_count": null,
      "outputs": []
    },
    {
      "cell_type": "code",
      "execution_count": 53,
      "metadata": {
        "id": "jEyxA0q0Ab81"
      },
      "outputs": [],
      "source": [
        "def awesome_cossim_top(A, B, ntop, lower_bound=0):\n",
        "  \n",
        "    A = A.tocsr()\n",
        "    B = B.tocsr()\n",
        "    M, _ = A.shape\n",
        "    _, N = B.shape\n",
        " \n",
        "    idx_dtype = np.int32\n",
        " \n",
        "    nnz_max = M*ntop\n",
        " \n",
        "    indptr = np.zeros(M+1, dtype=idx_dtype)\n",
        "    indices = np.zeros(nnz_max, dtype=idx_dtype)\n",
        "    data = np.zeros(nnz_max, dtype=A.dtype)\n",
        "\n",
        "    ct.sparse_dot_topn(\n",
        "        M, N, np.asarray(A.indptr, dtype=idx_dtype),\n",
        "        np.asarray(A.indices, dtype=idx_dtype),\n",
        "        A.data,\n",
        "        np.asarray(B.indptr, dtype=idx_dtype),\n",
        "        np.asarray(B.indices, dtype=idx_dtype),\n",
        "        B.data,\n",
        "        ntop,\n",
        "        lower_bound,\n",
        "        indptr, indices, data)\n",
        "\n",
        "    return csr_matrix((data,indices,indptr),shape=(M,N))\n",
        "\n",
        "matches = awesome_cossim_top(tf_idf_matrix, tf_idf_matrix.transpose(), 5)"
      ]
    },
    {
      "cell_type": "code",
      "execution_count": 54,
      "metadata": {
        "id": "d-E-AUmUAb83",
        "outputId": "a0f10484-9c88-43ce-da7f-bdc6ebcf0758",
        "colab": {
          "base_uri": "https://localhost:8080/"
        }
      },
      "outputs": [
        {
          "output_type": "execute_result",
          "data": {
            "text/plain": [
              "<168x168 sparse matrix of type '<class 'numpy.float64'>'\n",
              "\twith 840 stored elements in Compressed Sparse Row format>"
            ]
          },
          "metadata": {},
          "execution_count": 54
        }
      ],
      "source": [
        "matches"
      ]
    },
    {
      "cell_type": "code",
      "execution_count": 55,
      "metadata": {
        "id": "kKBmdLFlAb83"
      },
      "outputs": [],
      "source": [
        "def get_matches_df(sparse_matrix, name_vector, top=840):\n",
        "    non_zeros = sparse_matrix.nonzero()\n",
        "    \n",
        "    sparserows = non_zeros[0]\n",
        "    sparsecols = non_zeros[1]\n",
        "    \n",
        "    if top:\n",
        "        nr_matches = top\n",
        "    else:\n",
        "        nr_matches = sparsecols.size\n",
        "    \n",
        "    left_side = np.empty([nr_matches], dtype=object)\n",
        "    right_side = np.empty([nr_matches], dtype=object)\n",
        "    similairity = np.zeros(nr_matches)\n",
        "    \n",
        "    for index in range(0, nr_matches):\n",
        "        left_side[index] = name_vector[sparserows[index]]\n",
        "        right_side[index] = name_vector[sparsecols[index]]\n",
        "        similairity[index] = sparse_matrix.data[index]\n",
        "    \n",
        "    return pd.DataFrame({'left_side': left_side,\n",
        "                          'right_side': right_side,\n",
        "                           'similarity': similairity})\n",
        "\n",
        "matches_df = get_matches_df(matches, name_address)"
      ]
    },
    {
      "cell_type": "code",
      "execution_count": 56,
      "metadata": {
        "id": "A9O1shg2Ab84",
        "outputId": "6b59dcdc-5db2-44be-c00b-5324b98cab8e",
        "colab": {
          "base_uri": "https://localhost:8080/",
          "height": 990
        }
      },
      "outputs": [
        {
          "output_type": "execute_result",
          "data": {
            "text/plain": [
              "                                             left_side  \\\n",
              "831  Pike's Place Lux Suites by Barsala 2rd Ave and...   \n",
              "826  Pike's Place Lux Suites by Barsala 2nd Ave and...   \n",
              "1    Hilton Garden Inn Seattle Downtown 1821 Boren ...   \n",
              "46   Hilton Garden Inn Seattle Downtown 1821 Boren ...   \n",
              "586  Quality Inn & Suites Seattle Center 618 John S...   \n",
              "551  Quality Inn & Suites Seattle Center 618 John S...   \n",
              "561  Renaissance Seattle Hotel 515 Madison Street, ...   \n",
              "546  Renaissance Seattle Hotel 515 Madison St, Seat...   \n",
              "341  Home2 Suites by Hilton Seattle Airport 380 Upl...   \n",
              "346  Home2 Suites by Hilton Seattle Airport 380 Upl...   \n",
              "791  citizenM Seattle South Lake Union hotel 201 We...   \n",
              "836  citizenM Seattle South Lake Union hotel 201 We...   \n",
              "781  Hyatt Regency Lake Washington At SeattleS Sout...   \n",
              "746  Hyatt Regency Lake Washington At SeattleS Sout...   \n",
              "181  Travelodge Seattle by The Space Needle 200 6th...   \n",
              "211  Travelodge Seattle by The Space Needle 200 6th...   \n",
              "636   Hyatt At Olive 9 1635 8th Ave, Seattle, WA 98101   \n",
              "631   Hyatt At Olive 8 1635 8th Ave, Seattle, WA 98101   \n",
              "401  Comfort Inn & Suites 13700 Aurora Ave N, Seatt...   \n",
              "441  Comfort Inn & Suites 13700 Aurora Avenue North...   \n",
              "256  Holiday Inn Express & Suites Seattle City Cent...   \n",
              "206  Holiday Inn Express & Suites Seattle-City Cent...   \n",
              "411  Roy Street Commons 621 12th Ave E, Seattle, WA...   \n",
              "451  Roy Street Commons 621 12th Avenue East, Seatt...   \n",
              "11   Crowne Plaza Seattle Downtown 1113 6th Ave, Se...   \n",
              "61   Crowne Plaza Seattle 1113 6th Ave, Seattle, Wa...   \n",
              "416  Hotel Seattle 315 Seneca Street, Seattle, WA 9...   \n",
              "421     Hotel Seattle 316 Seneca St, Seattle, WA 98101   \n",
              "396  Travelodge by Wyndham Seattle North of Downtow...   \n",
              "391  Days Inn by Wyndham Seattle North of Downtown ...   \n",
              "\n",
              "                                            right_side  similarity  \n",
              "831  Pike's Place Lux Suites by Barsala 2nd Ave and...    0.932024  \n",
              "826  Pike's Place Lux Suites by Barsala 2rd Ave and...    0.932024  \n",
              "1    Hilton Garden Inn Seattle Downtown 1821 Boren ...    0.911902  \n",
              "46   Hilton Garden Inn Seattle Downtown 1821 Boren ...    0.911902  \n",
              "586  Quality Inn & Suites Seattle Center 618 John S...    0.889089  \n",
              "551  Quality Inn & Suites Seattle Center 618 John S...    0.889089  \n",
              "561  Renaissance Seattle Hotel 515 Madison St, Seat...    0.874515  \n",
              "546  Renaissance Seattle Hotel 515 Madison Street, ...    0.874515  \n",
              "341  Home2 Suites by Hilton Seattle Airport 380 Upl...    0.873906  \n",
              "346  Home2 Suites by Hilton Seattle Airport 380 Upl...    0.873906  \n",
              "791  citizenM Seattle South Lake Union hotel 201 We...    0.872746  \n",
              "836  citizenM Seattle South Lake Union hotel 201 We...    0.872746  \n",
              "781  Hyatt Regency Lake Washington At SeattleS Sout...    0.854781  \n",
              "746  Hyatt Regency Lake Washington At SeattleS Sout...    0.854781  \n",
              "181  Travelodge Seattle by The Space Needle 200 6th...    0.849173  \n",
              "211  Travelodge Seattle by The Space Needle 200 6th...    0.849173  \n",
              "636   Hyatt At Olive 8 1635 8th Ave, Seattle, WA 98101    0.839061  \n",
              "631   Hyatt At Olive 9 1635 8th Ave, Seattle, WA 98101    0.839061  \n",
              "401  Comfort Inn & Suites 13700 Aurora Avenue North...    0.832193  \n",
              "441  Comfort Inn & Suites 13700 Aurora Ave N, Seatt...    0.832193  \n",
              "256  Holiday Inn Express & Suites Seattle-City Cent...    0.818383  \n",
              "206  Holiday Inn Express & Suites Seattle City Cent...    0.818383  \n",
              "411  Roy Street Commons 621 12th Avenue East, Seatt...    0.812792  \n",
              "451  Roy Street Commons 621 12th Ave E, Seattle, WA...    0.812792  \n",
              "11   Crowne Plaza Seattle 1113 6th Ave, Seattle, Wa...    0.812167  \n",
              "61   Crowne Plaza Seattle Downtown 1113 6th Ave, Se...    0.812167  \n",
              "416     Hotel Seattle 316 Seneca St, Seattle, WA 98101    0.705273  \n",
              "421  Hotel Seattle 315 Seneca Street, Seattle, WA 9...    0.705273  \n",
              "396  Days Inn by Wyndham Seattle North of Downtown ...    0.701409  \n",
              "391  Travelodge by Wyndham Seattle North of Downtow...    0.701409  "
            ],
            "text/html": [
              "\n",
              "  <div id=\"df-1ecf4818-816e-4f5b-861d-50b50a8cbcc2\">\n",
              "    <div class=\"colab-df-container\">\n",
              "      <div>\n",
              "<style scoped>\n",
              "    .dataframe tbody tr th:only-of-type {\n",
              "        vertical-align: middle;\n",
              "    }\n",
              "\n",
              "    .dataframe tbody tr th {\n",
              "        vertical-align: top;\n",
              "    }\n",
              "\n",
              "    .dataframe thead th {\n",
              "        text-align: right;\n",
              "    }\n",
              "</style>\n",
              "<table border=\"1\" class=\"dataframe\">\n",
              "  <thead>\n",
              "    <tr style=\"text-align: right;\">\n",
              "      <th></th>\n",
              "      <th>left_side</th>\n",
              "      <th>right_side</th>\n",
              "      <th>similarity</th>\n",
              "    </tr>\n",
              "  </thead>\n",
              "  <tbody>\n",
              "    <tr>\n",
              "      <th>831</th>\n",
              "      <td>Pike's Place Lux Suites by Barsala 2rd Ave and...</td>\n",
              "      <td>Pike's Place Lux Suites by Barsala 2nd Ave and...</td>\n",
              "      <td>0.932024</td>\n",
              "    </tr>\n",
              "    <tr>\n",
              "      <th>826</th>\n",
              "      <td>Pike's Place Lux Suites by Barsala 2nd Ave and...</td>\n",
              "      <td>Pike's Place Lux Suites by Barsala 2rd Ave and...</td>\n",
              "      <td>0.932024</td>\n",
              "    </tr>\n",
              "    <tr>\n",
              "      <th>1</th>\n",
              "      <td>Hilton Garden Inn Seattle Downtown 1821 Boren ...</td>\n",
              "      <td>Hilton Garden Inn Seattle Downtown 1821 Boren ...</td>\n",
              "      <td>0.911902</td>\n",
              "    </tr>\n",
              "    <tr>\n",
              "      <th>46</th>\n",
              "      <td>Hilton Garden Inn Seattle Downtown 1821 Boren ...</td>\n",
              "      <td>Hilton Garden Inn Seattle Downtown 1821 Boren ...</td>\n",
              "      <td>0.911902</td>\n",
              "    </tr>\n",
              "    <tr>\n",
              "      <th>586</th>\n",
              "      <td>Quality Inn &amp; Suites Seattle Center 618 John S...</td>\n",
              "      <td>Quality Inn &amp; Suites Seattle Center 618 John S...</td>\n",
              "      <td>0.889089</td>\n",
              "    </tr>\n",
              "    <tr>\n",
              "      <th>551</th>\n",
              "      <td>Quality Inn &amp; Suites Seattle Center 618 John S...</td>\n",
              "      <td>Quality Inn &amp; Suites Seattle Center 618 John S...</td>\n",
              "      <td>0.889089</td>\n",
              "    </tr>\n",
              "    <tr>\n",
              "      <th>561</th>\n",
              "      <td>Renaissance Seattle Hotel 515 Madison Street, ...</td>\n",
              "      <td>Renaissance Seattle Hotel 515 Madison St, Seat...</td>\n",
              "      <td>0.874515</td>\n",
              "    </tr>\n",
              "    <tr>\n",
              "      <th>546</th>\n",
              "      <td>Renaissance Seattle Hotel 515 Madison St, Seat...</td>\n",
              "      <td>Renaissance Seattle Hotel 515 Madison Street, ...</td>\n",
              "      <td>0.874515</td>\n",
              "    </tr>\n",
              "    <tr>\n",
              "      <th>341</th>\n",
              "      <td>Home2 Suites by Hilton Seattle Airport 380 Upl...</td>\n",
              "      <td>Home2 Suites by Hilton Seattle Airport 380 Upl...</td>\n",
              "      <td>0.873906</td>\n",
              "    </tr>\n",
              "    <tr>\n",
              "      <th>346</th>\n",
              "      <td>Home2 Suites by Hilton Seattle Airport 380 Upl...</td>\n",
              "      <td>Home2 Suites by Hilton Seattle Airport 380 Upl...</td>\n",
              "      <td>0.873906</td>\n",
              "    </tr>\n",
              "    <tr>\n",
              "      <th>791</th>\n",
              "      <td>citizenM Seattle South Lake Union hotel 201 We...</td>\n",
              "      <td>citizenM Seattle South Lake Union hotel 201 We...</td>\n",
              "      <td>0.872746</td>\n",
              "    </tr>\n",
              "    <tr>\n",
              "      <th>836</th>\n",
              "      <td>citizenM Seattle South Lake Union hotel 201 We...</td>\n",
              "      <td>citizenM Seattle South Lake Union hotel 201 We...</td>\n",
              "      <td>0.872746</td>\n",
              "    </tr>\n",
              "    <tr>\n",
              "      <th>781</th>\n",
              "      <td>Hyatt Regency Lake Washington At SeattleS Sout...</td>\n",
              "      <td>Hyatt Regency Lake Washington At SeattleS Sout...</td>\n",
              "      <td>0.854781</td>\n",
              "    </tr>\n",
              "    <tr>\n",
              "      <th>746</th>\n",
              "      <td>Hyatt Regency Lake Washington At SeattleS Sout...</td>\n",
              "      <td>Hyatt Regency Lake Washington At SeattleS Sout...</td>\n",
              "      <td>0.854781</td>\n",
              "    </tr>\n",
              "    <tr>\n",
              "      <th>181</th>\n",
              "      <td>Travelodge Seattle by The Space Needle 200 6th...</td>\n",
              "      <td>Travelodge Seattle by The Space Needle 200 6th...</td>\n",
              "      <td>0.849173</td>\n",
              "    </tr>\n",
              "    <tr>\n",
              "      <th>211</th>\n",
              "      <td>Travelodge Seattle by The Space Needle 200 6th...</td>\n",
              "      <td>Travelodge Seattle by The Space Needle 200 6th...</td>\n",
              "      <td>0.849173</td>\n",
              "    </tr>\n",
              "    <tr>\n",
              "      <th>636</th>\n",
              "      <td>Hyatt At Olive 9 1635 8th Ave, Seattle, WA 98101</td>\n",
              "      <td>Hyatt At Olive 8 1635 8th Ave, Seattle, WA 98101</td>\n",
              "      <td>0.839061</td>\n",
              "    </tr>\n",
              "    <tr>\n",
              "      <th>631</th>\n",
              "      <td>Hyatt At Olive 8 1635 8th Ave, Seattle, WA 98101</td>\n",
              "      <td>Hyatt At Olive 9 1635 8th Ave, Seattle, WA 98101</td>\n",
              "      <td>0.839061</td>\n",
              "    </tr>\n",
              "    <tr>\n",
              "      <th>401</th>\n",
              "      <td>Comfort Inn &amp; Suites 13700 Aurora Ave N, Seatt...</td>\n",
              "      <td>Comfort Inn &amp; Suites 13700 Aurora Avenue North...</td>\n",
              "      <td>0.832193</td>\n",
              "    </tr>\n",
              "    <tr>\n",
              "      <th>441</th>\n",
              "      <td>Comfort Inn &amp; Suites 13700 Aurora Avenue North...</td>\n",
              "      <td>Comfort Inn &amp; Suites 13700 Aurora Ave N, Seatt...</td>\n",
              "      <td>0.832193</td>\n",
              "    </tr>\n",
              "    <tr>\n",
              "      <th>256</th>\n",
              "      <td>Holiday Inn Express &amp; Suites Seattle City Cent...</td>\n",
              "      <td>Holiday Inn Express &amp; Suites Seattle-City Cent...</td>\n",
              "      <td>0.818383</td>\n",
              "    </tr>\n",
              "    <tr>\n",
              "      <th>206</th>\n",
              "      <td>Holiday Inn Express &amp; Suites Seattle-City Cent...</td>\n",
              "      <td>Holiday Inn Express &amp; Suites Seattle City Cent...</td>\n",
              "      <td>0.818383</td>\n",
              "    </tr>\n",
              "    <tr>\n",
              "      <th>411</th>\n",
              "      <td>Roy Street Commons 621 12th Ave E, Seattle, WA...</td>\n",
              "      <td>Roy Street Commons 621 12th Avenue East, Seatt...</td>\n",
              "      <td>0.812792</td>\n",
              "    </tr>\n",
              "    <tr>\n",
              "      <th>451</th>\n",
              "      <td>Roy Street Commons 621 12th Avenue East, Seatt...</td>\n",
              "      <td>Roy Street Commons 621 12th Ave E, Seattle, WA...</td>\n",
              "      <td>0.812792</td>\n",
              "    </tr>\n",
              "    <tr>\n",
              "      <th>11</th>\n",
              "      <td>Crowne Plaza Seattle Downtown 1113 6th Ave, Se...</td>\n",
              "      <td>Crowne Plaza Seattle 1113 6th Ave, Seattle, Wa...</td>\n",
              "      <td>0.812167</td>\n",
              "    </tr>\n",
              "    <tr>\n",
              "      <th>61</th>\n",
              "      <td>Crowne Plaza Seattle 1113 6th Ave, Seattle, Wa...</td>\n",
              "      <td>Crowne Plaza Seattle Downtown 1113 6th Ave, Se...</td>\n",
              "      <td>0.812167</td>\n",
              "    </tr>\n",
              "    <tr>\n",
              "      <th>416</th>\n",
              "      <td>Hotel Seattle 315 Seneca Street, Seattle, WA 9...</td>\n",
              "      <td>Hotel Seattle 316 Seneca St, Seattle, WA 98101</td>\n",
              "      <td>0.705273</td>\n",
              "    </tr>\n",
              "    <tr>\n",
              "      <th>421</th>\n",
              "      <td>Hotel Seattle 316 Seneca St, Seattle, WA 98101</td>\n",
              "      <td>Hotel Seattle 315 Seneca Street, Seattle, WA 9...</td>\n",
              "      <td>0.705273</td>\n",
              "    </tr>\n",
              "    <tr>\n",
              "      <th>396</th>\n",
              "      <td>Travelodge by Wyndham Seattle North of Downtow...</td>\n",
              "      <td>Days Inn by Wyndham Seattle North of Downtown ...</td>\n",
              "      <td>0.701409</td>\n",
              "    </tr>\n",
              "    <tr>\n",
              "      <th>391</th>\n",
              "      <td>Days Inn by Wyndham Seattle North of Downtown ...</td>\n",
              "      <td>Travelodge by Wyndham Seattle North of Downtow...</td>\n",
              "      <td>0.701409</td>\n",
              "    </tr>\n",
              "  </tbody>\n",
              "</table>\n",
              "</div>\n",
              "      <button class=\"colab-df-convert\" onclick=\"convertToInteractive('df-1ecf4818-816e-4f5b-861d-50b50a8cbcc2')\"\n",
              "              title=\"Convert this dataframe to an interactive table.\"\n",
              "              style=\"display:none;\">\n",
              "        \n",
              "  <svg xmlns=\"http://www.w3.org/2000/svg\" height=\"24px\"viewBox=\"0 0 24 24\"\n",
              "       width=\"24px\">\n",
              "    <path d=\"M0 0h24v24H0V0z\" fill=\"none\"/>\n",
              "    <path d=\"M18.56 5.44l.94 2.06.94-2.06 2.06-.94-2.06-.94-.94-2.06-.94 2.06-2.06.94zm-11 1L8.5 8.5l.94-2.06 2.06-.94-2.06-.94L8.5 2.5l-.94 2.06-2.06.94zm10 10l.94 2.06.94-2.06 2.06-.94-2.06-.94-.94-2.06-.94 2.06-2.06.94z\"/><path d=\"M17.41 7.96l-1.37-1.37c-.4-.4-.92-.59-1.43-.59-.52 0-1.04.2-1.43.59L10.3 9.45l-7.72 7.72c-.78.78-.78 2.05 0 2.83L4 21.41c.39.39.9.59 1.41.59.51 0 1.02-.2 1.41-.59l7.78-7.78 2.81-2.81c.8-.78.8-2.07 0-2.86zM5.41 20L4 18.59l7.72-7.72 1.47 1.35L5.41 20z\"/>\n",
              "  </svg>\n",
              "      </button>\n",
              "      \n",
              "  <style>\n",
              "    .colab-df-container {\n",
              "      display:flex;\n",
              "      flex-wrap:wrap;\n",
              "      gap: 12px;\n",
              "    }\n",
              "\n",
              "    .colab-df-convert {\n",
              "      background-color: #E8F0FE;\n",
              "      border: none;\n",
              "      border-radius: 50%;\n",
              "      cursor: pointer;\n",
              "      display: none;\n",
              "      fill: #1967D2;\n",
              "      height: 32px;\n",
              "      padding: 0 0 0 0;\n",
              "      width: 32px;\n",
              "    }\n",
              "\n",
              "    .colab-df-convert:hover {\n",
              "      background-color: #E2EBFA;\n",
              "      box-shadow: 0px 1px 2px rgba(60, 64, 67, 0.3), 0px 1px 3px 1px rgba(60, 64, 67, 0.15);\n",
              "      fill: #174EA6;\n",
              "    }\n",
              "\n",
              "    [theme=dark] .colab-df-convert {\n",
              "      background-color: #3B4455;\n",
              "      fill: #D2E3FC;\n",
              "    }\n",
              "\n",
              "    [theme=dark] .colab-df-convert:hover {\n",
              "      background-color: #434B5C;\n",
              "      box-shadow: 0px 1px 3px 1px rgba(0, 0, 0, 0.15);\n",
              "      filter: drop-shadow(0px 1px 2px rgba(0, 0, 0, 0.3));\n",
              "      fill: #FFFFFF;\n",
              "    }\n",
              "  </style>\n",
              "\n",
              "      <script>\n",
              "        const buttonEl =\n",
              "          document.querySelector('#df-1ecf4818-816e-4f5b-861d-50b50a8cbcc2 button.colab-df-convert');\n",
              "        buttonEl.style.display =\n",
              "          google.colab.kernel.accessAllowed ? 'block' : 'none';\n",
              "\n",
              "        async function convertToInteractive(key) {\n",
              "          const element = document.querySelector('#df-1ecf4818-816e-4f5b-861d-50b50a8cbcc2');\n",
              "          const dataTable =\n",
              "            await google.colab.kernel.invokeFunction('convertToInteractive',\n",
              "                                                     [key], {});\n",
              "          if (!dataTable) return;\n",
              "\n",
              "          const docLinkHtml = 'Like what you see? Visit the ' +\n",
              "            '<a target=\"_blank\" href=https://colab.research.google.com/notebooks/data_table.ipynb>data table notebook</a>'\n",
              "            + ' to learn more about interactive tables.';\n",
              "          element.innerHTML = '';\n",
              "          dataTable['output_type'] = 'display_data';\n",
              "          await google.colab.output.renderOutput(dataTable, element);\n",
              "          const docLink = document.createElement('div');\n",
              "          docLink.innerHTML = docLinkHtml;\n",
              "          element.appendChild(docLink);\n",
              "        }\n",
              "      </script>\n",
              "    </div>\n",
              "  </div>\n",
              "  "
            ]
          },
          "metadata": {},
          "execution_count": 56
        }
      ],
      "source": [
        "matches_df[matches_df['similarity'] < 0.99999].sort_values(by=['similarity'], ascending=False).head(30)"
      ]
    },
    {
      "cell_type": "code",
      "execution_count": 57,
      "metadata": {
        "scrolled": false,
        "id": "aJHWrmmkAb85",
        "outputId": "e532da99-9347-42da-8a61-bdf1d46a9ac8",
        "colab": {
          "base_uri": "https://localhost:8080/"
        }
      },
      "outputs": [
        {
          "output_type": "execute_result",
          "data": {
            "text/plain": [
              "150"
            ]
          },
          "metadata": {},
          "execution_count": 57
        }
      ],
      "source": [
        "matches_df[matches_df['similarity'] < 0.50].right_side.nunique()"
      ]
    },
    {
      "cell_type": "code",
      "source": [
        ""
      ],
      "metadata": {
        "id": "UdCFVxeQKFZv"
      },
      "execution_count": null,
      "outputs": []
    }
  ],
  "metadata": {
    "kernelspec": {
      "display_name": "Python 3",
      "language": "python",
      "name": "python3"
    },
    "language_info": {
      "codemirror_mode": {
        "name": "ipython",
        "version": 3
      },
      "file_extension": ".py",
      "mimetype": "text/x-python",
      "name": "python",
      "nbconvert_exporter": "python",
      "pygments_lexer": "ipython3",
      "version": "3.6.7"
    },
    "colab": {
      "name": "Dedupe_main.ipynb",
      "provenance": [],
      "collapsed_sections": []
    }
  },
  "nbformat": 4,
  "nbformat_minor": 0
}