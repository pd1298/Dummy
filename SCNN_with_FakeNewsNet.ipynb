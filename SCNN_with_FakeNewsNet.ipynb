{
  "nbformat": 4,
  "nbformat_minor": 0,
  "metadata": {
    "colab": {
      "name": "SCNN with FakeNewsNet.ipynb",
      "provenance": [],
      "collapsed_sections": []
    },
    "kernelspec": {
      "name": "python3",
      "display_name": "Python 3"
    }
  },
  "cells": [
    {
      "cell_type": "code",
      "metadata": {
        "id": "3V7ypnBvu5Sl",
        "outputId": "b3c1c067-a45e-4799-ec3c-41eb45c42f72",
        "colab": {
          "base_uri": "https://localhost:8080/",
          "height": 54
        }
      },
      "source": [
        "# unzipping the GloVe directory from google drive\n",
        "!unzip \"/content/drive/My Drive/Copy of glove.6B.100d.txt.zip\""
      ],
      "execution_count": null,
      "outputs": [
        {
          "output_type": "stream",
          "text": [
            "Archive:  /content/drive/My Drive/Copy of glove.6B.100d.txt.zip\n",
            "  inflating: glove.6B.100d.txt       \n"
          ],
          "name": "stdout"
        }
      ]
    },
    {
      "cell_type": "code",
      "metadata": {
        "id": "5xSYxU9iFLlV",
        "colab": {
          "base_uri": "https://localhost:8080/",
          "height": 128
        },
        "outputId": "6b800847-905a-4928-e412-8e25fb3680a9"
      },
      "source": [
        "from google.colab import drive\n",
        "drive.mount('/content/drive')"
      ],
      "execution_count": null,
      "outputs": [
        {
          "output_type": "stream",
          "text": [
            "Go to this URL in a browser: https://accounts.google.com/o/oauth2/auth?client_id=947318989803-6bn6qk8qdgf4n4g3pfee6491hc0brc4i.apps.googleusercontent.com&redirect_uri=urn%3aietf%3awg%3aoauth%3a2.0%3aoob&response_type=code&scope=email%20https%3a%2f%2fwww.googleapis.com%2fauth%2fdocs.test%20https%3a%2f%2fwww.googleapis.com%2fauth%2fdrive%20https%3a%2f%2fwww.googleapis.com%2fauth%2fdrive.photos.readonly%20https%3a%2f%2fwww.googleapis.com%2fauth%2fpeopleapi.readonly\n",
            "\n",
            "Enter your authorization code:\n",
            "··········\n",
            "Mounted at /content/drive\n"
          ],
          "name": "stdout"
        }
      ]
    },
    {
      "cell_type": "code",
      "metadata": {
        "id": "yITYi5u5vpaR",
        "outputId": "a5569793-d7b9-476d-924e-d65918e32ba1",
        "colab": {
          "base_uri": "https://localhost:8080/",
          "height": 35
        }
      },
      "source": [
        "#Loading all the dependencies \n",
        "\n",
        "\n",
        "\n",
        "# print(device_lib.list_local_devices())\n",
        "\n",
        "# Basic libraries \n",
        "import numpy as np\n",
        "import pandas as pd\n",
        "from collections import defaultdict\n",
        "import re\n",
        "\n",
        "# For data Preprocessing\n",
        "from bs4 import BeautifulSoup\n",
        "\n",
        "#For system\n",
        "import sys\n",
        "import os\n",
        "\n",
        "# Deep Learning API dependencies\n",
        "\n",
        "import keras\n",
        "from tensorflow.python.client import device_lib\n",
        "\n",
        "from keras.preprocessing.text import Tokenizer\n",
        "from keras.preprocessing.sequence import pad_sequences\n",
        "from keras.utils.np_utils import to_categorical\n",
        "\n",
        "from keras.layers import Embedding\n",
        "from keras.layers import Dense, Input, Flatten\n",
        "from keras.layers import Conv1D, MaxPooling1D, Embedding, Concatenate, Dropout, LSTM\n",
        "from keras.models import Model\n",
        "from keras.models import Sequential\n",
        "from keras.layers.normalization import BatchNormalization\n",
        "\n",
        "MAX_SEQUENCE_LENGTH = 1000\n",
        "MAX_NB_WORDS = 200000\n",
        "EMBEDDING_DIM = 100\n",
        "VALIDATION_SPLIT = 0.2"
      ],
      "execution_count": null,
      "outputs": [
        {
          "output_type": "stream",
          "text": [
            "Using TensorFlow backend.\n"
          ],
          "name": "stderr"
        }
      ]
    },
    {
      "cell_type": "code",
      "metadata": {
        "id": "qHf2F6U7wxaz"
      },
      "source": [
        "#Loading dataset\n",
        "data_train = pd.read_csv(\"/content/drive/My Drive/Copy of gossipcop_fake (1).csv\")"
      ],
      "execution_count": null,
      "outputs": []
    },
    {
      "cell_type": "code",
      "metadata": {
        "id": "6mvNrkF6w6EB",
        "outputId": "ef064b87-cc44-44f0-cf00-9cf69a2a1229",
        "colab": {
          "base_uri": "https://localhost:8080/",
          "height": 35
        }
      },
      "source": [
        "# Shape of the dataset gives number of rows and columns respectiveley in a .csv format dataset. \n",
        "data_train.shape"
      ],
      "execution_count": null,
      "outputs": [
        {
          "output_type": "execute_result",
          "data": {
            "text/plain": [
              "(23701, 5)"
            ]
          },
          "metadata": {
            "tags": []
          },
          "execution_count": 5
        }
      ]
    },
    {
      "cell_type": "code",
      "metadata": {
        "id": "JaX91ECKw-Cz",
        "outputId": "3401f868-7023-43ff-b73e-cd141d6678d7",
        "colab": {
          "base_uri": "https://localhost:8080/",
          "height": 285
        }
      },
      "source": [
        "data_train.head()"
      ],
      "execution_count": null,
      "outputs": [
        {
          "output_type": "execute_result",
          "data": {
            "text/html": [
              "<div>\n",
              "<style scoped>\n",
              "    .dataframe tbody tr th:only-of-type {\n",
              "        vertical-align: middle;\n",
              "    }\n",
              "\n",
              "    .dataframe tbody tr th {\n",
              "        vertical-align: top;\n",
              "    }\n",
              "\n",
              "    .dataframe thead th {\n",
              "        text-align: right;\n",
              "    }\n",
              "</style>\n",
              "<table border=\"1\" class=\"dataframe\">\n",
              "  <thead>\n",
              "    <tr style=\"text-align: right;\">\n",
              "      <th></th>\n",
              "      <th>id</th>\n",
              "      <th>news_url</th>\n",
              "      <th>title</th>\n",
              "      <th>tweet_ids</th>\n",
              "      <th>label</th>\n",
              "    </tr>\n",
              "  </thead>\n",
              "  <tbody>\n",
              "    <tr>\n",
              "      <th>0</th>\n",
              "      <td>gossipcop-2493749932</td>\n",
              "      <td>www.dailymail.co.uk/tvshowbiz/article-5874213/...</td>\n",
              "      <td>Did Miley Cyrus and Liam Hemsworth secretly ge...</td>\n",
              "      <td>284329075902926848\\t284332744559968256\\t284335...</td>\n",
              "      <td>0.0</td>\n",
              "    </tr>\n",
              "    <tr>\n",
              "      <th>1</th>\n",
              "      <td>gossipcop-4580247171</td>\n",
              "      <td>hollywoodlife.com/2018/05/05/paris-jackson-car...</td>\n",
              "      <td>Paris Jackson &amp; Cara Delevingne Enjoy Night Ou...</td>\n",
              "      <td>992895508267130880\\t992897935418503169\\t992899...</td>\n",
              "      <td>0.0</td>\n",
              "    </tr>\n",
              "    <tr>\n",
              "      <th>2</th>\n",
              "      <td>gossipcop-941805037</td>\n",
              "      <td>variety.com/2017/biz/news/tax-march-donald-tru...</td>\n",
              "      <td>Celebrities Join Tax March in Protest of Donal...</td>\n",
              "      <td>853359353532829696\\t853359576543920128\\t853359...</td>\n",
              "      <td>0.0</td>\n",
              "    </tr>\n",
              "    <tr>\n",
              "      <th>3</th>\n",
              "      <td>gossipcop-2547891536</td>\n",
              "      <td>www.dailymail.co.uk/femail/article-3499192/Do-...</td>\n",
              "      <td>Cindy Crawford's daughter Kaia Gerber wears a ...</td>\n",
              "      <td>988821905196158981\\t988824206556172288\\t988825...</td>\n",
              "      <td>0.0</td>\n",
              "    </tr>\n",
              "    <tr>\n",
              "      <th>4</th>\n",
              "      <td>gossipcop-5476631226</td>\n",
              "      <td>variety.com/2018/film/news/list-2018-oscar-nom...</td>\n",
              "      <td>Full List of 2018 Oscar Nominations – Variety</td>\n",
              "      <td>955792793632432131\\t955795063925301249\\t955798...</td>\n",
              "      <td>0.0</td>\n",
              "    </tr>\n",
              "  </tbody>\n",
              "</table>\n",
              "</div>"
            ],
            "text/plain": [
              "                     id  ... label\n",
              "0  gossipcop-2493749932  ...   0.0\n",
              "1  gossipcop-4580247171  ...   0.0\n",
              "2   gossipcop-941805037  ...   0.0\n",
              "3  gossipcop-2547891536  ...   0.0\n",
              "4  gossipcop-5476631226  ...   0.0\n",
              "\n",
              "[5 rows x 5 columns]"
            ]
          },
          "metadata": {
            "tags": []
          },
          "execution_count": 6
        }
      ]
    },
    {
      "cell_type": "code",
      "metadata": {
        "id": "vo4Wc4tXxOko"
      },
      "source": [
        "# Cleaning of the dataset by dropping all the null values, resetting the index to avoid any error. \n",
        "data_train = data_train.dropna()\n",
        "data_train = data_train.reset_index(drop=True)"
      ],
      "execution_count": null,
      "outputs": []
    },
    {
      "cell_type": "code",
      "metadata": {
        "id": "PRheKUb4xelm",
        "outputId": "caf4e663-f324-4abe-f9da-fb8ef55d02d9",
        "colab": {
          "base_uri": "https://localhost:8080/",
          "height": 217
        }
      },
      "source": [
        "#Preprocessing of dataset for our model\n",
        "\n",
        "print(data_train.columns)\n",
        "print('What the raw input data looks like:')\n",
        "print(data_train[0:5])\n",
        "texts = []\n",
        "labels = []\n",
        "\n",
        "for i in range(data_train.title.shape[0]):\n",
        "    \n",
        "    text = data_train.title[i]\n",
        "    \n",
        "    texts.append(text)\n",
        "    labels.append(data_train.label[i])\n",
        "    \n",
        "tokenizer = Tokenizer(num_words=MAX_NB_WORDS)\n",
        "tokenizer.fit_on_texts(texts)\n",
        "sequences = tokenizer.texts_to_sequences(texts)\n",
        "\n",
        "word_index = tokenizer.word_index\n",
        "print('Found %s unique tokens.' % len(word_index))"
      ],
      "execution_count": null,
      "outputs": [
        {
          "output_type": "stream",
          "text": [
            "Index(['id', 'news_url', 'title', 'tweet_ids', 'label'], dtype='object')\n",
            "What the raw input data looks like:\n",
            "                     id  ... label\n",
            "0  gossipcop-2493749932  ...   0.0\n",
            "1  gossipcop-4580247171  ...   0.0\n",
            "2   gossipcop-941805037  ...   0.0\n",
            "3  gossipcop-2547891536  ...   0.0\n",
            "4  gossipcop-5476631226  ...   0.0\n",
            "\n",
            "[5 rows x 5 columns]\n",
            "Found 23294 unique tokens.\n"
          ],
          "name": "stdout"
        }
      ]
    },
    {
      "cell_type": "code",
      "metadata": {
        "id": "iqicGAqixkra",
        "outputId": "7590b337-f7f2-42ba-bfa2-e3760a48dd54",
        "colab": {
          "base_uri": "https://localhost:8080/",
          "height": 54
        }
      },
      "source": [
        "data = pad_sequences(sequences, maxlen=MAX_SEQUENCE_LENGTH)\n",
        "labels = to_categorical(np.asarray(labels),num_classes = 2)\n",
        "print('Shape of data tensor:', data.shape)\n",
        "print('Shape of label tensor:', labels.shape)"
      ],
      "execution_count": null,
      "outputs": [
        {
          "output_type": "stream",
          "text": [
            "Shape of data tensor: (21335, 1000)\n",
            "Shape of label tensor: (21335, 2)\n"
          ],
          "name": "stdout"
        }
      ]
    },
    {
      "cell_type": "code",
      "metadata": {
        "id": "6TdC-BuPxoS7",
        "outputId": "15661f80-4069-4978-87ed-32faacea2f98",
        "colab": {
          "base_uri": "https://localhost:8080/",
          "height": 108
        }
      },
      "source": [
        "# Splitting of dataset \n",
        "from sklearn.model_selection import train_test_split\n",
        "\n",
        "indices = np.arange(data.shape[0])\n",
        "np.random.shuffle(indices)\n",
        "data = data[indices]\n",
        "labels = labels[indices]\n",
        "x_train, x_test, y_train, y_test = train_test_split( data, labels, test_size=0.15, random_state=42)\n",
        "x_test, x_val, y_test, y_val = train_test_split( x_test, y_test, test_size=0.50, random_state=42)\n",
        "print('Size of train, validation, test:', len(y_train), len(y_val), len(y_test))\n",
        "\n",
        "print('real & fake news in train,valt,test:')\n",
        "print(y_train.sum(axis=0))\n",
        "print(y_val.sum(axis=0))\n",
        "print(y_test.sum(axis=0))"
      ],
      "execution_count": null,
      "outputs": [
        {
          "output_type": "stream",
          "text": [
            "Size of train, validation, test: 18134 1601 1600\n",
            "real & fake news in train,valt,test:\n",
            "[ 4447. 13687.]\n",
            "[ 409. 1192.]\n",
            "[ 411. 1189.]\n"
          ],
          "name": "stdout"
        }
      ]
    },
    {
      "cell_type": "code",
      "metadata": {
        "id": "y7yvL1MszNJU",
        "outputId": "f3c336e6-3229-4571-c33c-6813acc22e57",
        "colab": {
          "base_uri": "https://localhost:8080/",
          "height": 35
        }
      },
      "source": [
        "embeddings_index = {}\n",
        "f = open(os.path.join('/content/glove.6B.100d.txt'), encoding=\"utf8\")\n",
        "for line in f:\n",
        "    values = line.split()\n",
        "    #print(values[1:])\n",
        "    word = values[0]\n",
        "    coefs = np.asarray(values[1:], dtype='float32')\n",
        "    embeddings_index[word] = coefs\n",
        "f.close()\n",
        "\n",
        "print('Total %s word vectors in Glove.' % len(embeddings_index))\n",
        "\n",
        "embedding_matrix = np.random.random((len(word_index) + 1, EMBEDDING_DIM))\n",
        "for word, i in word_index.items():\n",
        "    embedding_vector = embeddings_index.get(word)\n",
        "    if embedding_vector is not None:\n",
        "        # words not found in embedding index will be all-zeros.\n",
        "        embedding_matrix[i] = embedding_vector\n",
        "        \n",
        "embedding_layer = Embedding(len(word_index) + 1,\n",
        "                            EMBEDDING_DIM,\n",
        "                            weights=[embedding_matrix],\n",
        "                            input_length=MAX_SEQUENCE_LENGTH)\n"
      ],
      "execution_count": null,
      "outputs": [
        {
          "output_type": "stream",
          "text": [
            "Total 400000 word vectors in Glove.\n"
          ],
          "name": "stdout"
        }
      ]
    },
    {
      "cell_type": "code",
      "metadata": {
        "id": "CPeSheT-yXpu",
        "outputId": "5f8cd9df-13d2-4f17-eabe-0b0daac6015d",
        "colab": {
          "base_uri": "https://localhost:8080/",
          "height": 1000
        }
      },
      "source": [
        "#MODEL\n",
        "\n",
        "sequence_input = Input(shape=(MAX_SEQUENCE_LENGTH,), dtype='int32')\n",
        "embedded_sequences = embedding_layer(sequence_input)\n",
        "\n",
        "l_cov1= Conv1D(128, 5, activation='relu')(embedded_sequences)\n",
        "l_pool1 = MaxPooling1D(5)(l_cov1)\n",
        "\n",
        "l_cov2 = Conv1D(128, 5, activation='relu')(l_pool1)\n",
        "l_pool2 = MaxPooling1D(5)(l_cov2)\n",
        "\n",
        "l_cov3 = Conv1D(128, 5, activation='relu')(l_pool2)\n",
        "l_pool3 = MaxPooling1D(35)(l_cov3)  # global max pooling\n",
        "\n",
        "l_flat = Flatten()(l_pool3)\n",
        "l_dense = Dense(128, activation='relu')(l_flat)\n",
        "preds = Dense(2, activation='softmax')(l_dense)\n",
        "\n",
        "model = Model(sequence_input, preds)\n",
        "model.compile(loss='binary_crossentropy',\n",
        "              optimizer='adadelta',\n",
        "              metrics=['acc'])\n",
        "\n",
        "print(\"Fitting the simple convolutional neural network model\")\n",
        "model.summary()\n",
        "history = model.fit(x_train, y_train, validation_data=(x_val, y_val),\n",
        "          epochs=20, batch_size=128)"
      ],
      "execution_count": null,
      "outputs": [
        {
          "output_type": "stream",
          "text": [
            "Fitting the simple convolutional neural network model\n",
            "Model: \"model_1\"\n",
            "_________________________________________________________________\n",
            "Layer (type)                 Output Shape              Param #   \n",
            "=================================================================\n",
            "input_1 (InputLayer)         (None, 1000)              0         \n",
            "_________________________________________________________________\n",
            "embedding_1 (Embedding)      (None, 1000, 100)         2329500   \n",
            "_________________________________________________________________\n",
            "conv1d_1 (Conv1D)            (None, 996, 128)          64128     \n",
            "_________________________________________________________________\n",
            "max_pooling1d_1 (MaxPooling1 (None, 199, 128)          0         \n",
            "_________________________________________________________________\n",
            "conv1d_2 (Conv1D)            (None, 195, 128)          82048     \n",
            "_________________________________________________________________\n",
            "max_pooling1d_2 (MaxPooling1 (None, 39, 128)           0         \n",
            "_________________________________________________________________\n",
            "conv1d_3 (Conv1D)            (None, 35, 128)           82048     \n",
            "_________________________________________________________________\n",
            "max_pooling1d_3 (MaxPooling1 (None, 1, 128)            0         \n",
            "_________________________________________________________________\n",
            "flatten_1 (Flatten)          (None, 128)               0         \n",
            "_________________________________________________________________\n",
            "dense_1 (Dense)              (None, 128)               16512     \n",
            "_________________________________________________________________\n",
            "dense_2 (Dense)              (None, 2)                 258       \n",
            "=================================================================\n",
            "Total params: 2,574,494\n",
            "Trainable params: 2,574,494\n",
            "Non-trainable params: 0\n",
            "_________________________________________________________________\n"
          ],
          "name": "stdout"
        },
        {
          "output_type": "stream",
          "text": [
            "/usr/local/lib/python3.6/dist-packages/tensorflow/python/framework/indexed_slices.py:434: UserWarning: Converting sparse IndexedSlices to a dense Tensor of unknown shape. This may consume a large amount of memory.\n",
            "  \"Converting sparse IndexedSlices to a dense Tensor of unknown shape. \"\n"
          ],
          "name": "stderr"
        },
        {
          "output_type": "stream",
          "text": [
            "Train on 18134 samples, validate on 1601 samples\n",
            "Epoch 1/20\n",
            "18134/18134 [==============================] - 207s 11ms/step - loss: 0.5454 - acc: 0.7547 - val_loss: 0.4750 - val_acc: 0.7514\n",
            "Epoch 2/20\n",
            "18134/18134 [==============================] - 203s 11ms/step - loss: 0.4757 - acc: 0.7844 - val_loss: 0.4177 - val_acc: 0.8120\n",
            "Epoch 3/20\n",
            "18134/18134 [==============================] - 203s 11ms/step - loss: 0.4263 - acc: 0.8122 - val_loss: 0.3921 - val_acc: 0.8207\n",
            "Epoch 4/20\n",
            "18134/18134 [==============================] - 207s 11ms/step - loss: 0.3881 - acc: 0.8308 - val_loss: 0.3928 - val_acc: 0.8276\n",
            "Epoch 5/20\n",
            "18134/18134 [==============================] - 203s 11ms/step - loss: 0.3558 - acc: 0.8488 - val_loss: 0.4362 - val_acc: 0.8007\n",
            "Epoch 6/20\n",
            "18134/18134 [==============================] - 203s 11ms/step - loss: 0.3150 - acc: 0.8663 - val_loss: 0.4924 - val_acc: 0.8020\n",
            "Epoch 7/20\n",
            "18134/18134 [==============================] - 207s 11ms/step - loss: 0.2788 - acc: 0.8862 - val_loss: 0.3897 - val_acc: 0.8420\n",
            "Epoch 8/20\n",
            "18134/18134 [==============================] - 204s 11ms/step - loss: 0.2152 - acc: 0.9156 - val_loss: 0.4347 - val_acc: 0.8351\n",
            "Epoch 9/20\n",
            "18134/18134 [==============================] - 203s 11ms/step - loss: 0.1706 - acc: 0.9326 - val_loss: 0.4601 - val_acc: 0.8320\n",
            "Epoch 10/20\n",
            "18134/18134 [==============================] - 207s 11ms/step - loss: 0.1147 - acc: 0.9560 - val_loss: 0.5764 - val_acc: 0.8182\n",
            "Epoch 11/20\n",
            "18134/18134 [==============================] - 204s 11ms/step - loss: 0.1002 - acc: 0.9629 - val_loss: 0.6189 - val_acc: 0.8239\n",
            "Epoch 12/20\n",
            "18134/18134 [==============================] - 204s 11ms/step - loss: 0.0683 - acc: 0.9755 - val_loss: 0.7594 - val_acc: 0.8251\n",
            "Epoch 13/20\n",
            "18134/18134 [==============================] - 207s 11ms/step - loss: 0.0642 - acc: 0.9779 - val_loss: 0.6999 - val_acc: 0.8345\n",
            "Epoch 14/20\n",
            "18134/18134 [==============================] - 204s 11ms/step - loss: 0.0612 - acc: 0.9785 - val_loss: 0.7979 - val_acc: 0.8345\n",
            "Epoch 15/20\n",
            "18134/18134 [==============================] - 204s 11ms/step - loss: 0.0537 - acc: 0.9813 - val_loss: 0.7483 - val_acc: 0.8232\n",
            "Epoch 16/20\n",
            "18134/18134 [==============================] - 207s 11ms/step - loss: 0.0509 - acc: 0.9830 - val_loss: 0.8256 - val_acc: 0.8295\n",
            "Epoch 17/20\n",
            "18134/18134 [==============================] - 205s 11ms/step - loss: 0.0466 - acc: 0.9819 - val_loss: 0.8703 - val_acc: 0.8357\n",
            "Epoch 18/20\n",
            "18134/18134 [==============================] - 204s 11ms/step - loss: 0.0479 - acc: 0.9832 - val_loss: 1.2803 - val_acc: 0.7539\n",
            "Epoch 19/20\n",
            "18134/18134 [==============================] - 208s 11ms/step - loss: 0.0383 - acc: 0.9835 - val_loss: 1.0105 - val_acc: 0.8320\n",
            "Epoch 20/20\n",
            "18134/18134 [==============================] - 204s 11ms/step - loss: 0.0391 - acc: 0.9845 - val_loss: 1.0758 - val_acc: 0.8289\n"
          ],
          "name": "stdout"
        }
      ]
    },
    {
      "cell_type": "code",
      "metadata": {
        "id": "Y3rF2hroG22k"
      },
      "source": [
        "model.save('SCNN.h5')"
      ],
      "execution_count": null,
      "outputs": []
    },
    {
      "cell_type": "code",
      "metadata": {
        "id": "PV6iDouGzLT8",
        "outputId": "ea484758-6352-406c-ff95-3d1b0dad8385",
        "colab": {
          "base_uri": "https://localhost:8080/",
          "height": 591
        }
      },
      "source": [
        "import matplotlib.pyplot as plt\n",
        "%matplotlib inline \n",
        "# list all data in history\n",
        "print(history.history.keys())\n",
        "# summarize history for accuracy\n",
        "plt.plot(history.history['acc'])\n",
        "plt.plot(history.history['val_acc'])\n",
        "plt.title('model accuracy')\n",
        "plt.ylabel('accuracy')\n",
        "plt.xlabel('epoch')\n",
        "plt.legend(['train', 'test'], loc='upper left')\n",
        "plt.show()\n",
        "# summarize history for loss\n",
        "plt.plot(history.history['loss'])\n",
        "plt.plot(history.history['val_loss'])\n",
        "plt.title('model loss')\n",
        "plt.ylabel('loss')\n",
        "plt.xlabel('epoch')\n",
        "plt.legend(['train', 'test'], loc='upper left')\n",
        "plt.show()"
      ],
      "execution_count": null,
      "outputs": [
        {
          "output_type": "stream",
          "text": [
            "dict_keys(['val_loss', 'val_acc', 'loss', 'acc'])\n"
          ],
          "name": "stdout"
        },
        {
          "output_type": "display_data",
          "data": {
            "image/png": "[encoded data removed]",
            "text/plain": [
              "<Figure size 432x288 with 1 Axes>"
            ]
          },
          "metadata": {
            "tags": [],
            "needs_background": "light"
          }
        },
        {
          "output_type": "display_data",
          "data": {
            "image/png": "[encoded data removed]",
            "text/plain": [
              "<Figure size 432x288 with 1 Axes>"
            ]
          },
          "metadata": {
            "tags": [],
            "needs_background": "light"
          }
        }
      ]
    },
    {
      "cell_type": "code",
      "source": [
        ""
      ],
      "metadata": {
        "id": "_uxE1t01VZoY"
      },
      "execution_count": null,
      "outputs": []
    },
    {
      "cell_type": "code",
      "metadata": {
        "id": "KKU2CpKz5cup",
        "outputId": "c9480769-908b-4af5-9035-8e6e0d89dba5",
        "colab": {
          "base_uri": "https://localhost:8080/",
          "height": 312
        }
      },
      "source": [
        "# Test model 1\n",
        "import matplotlib.pyplot as plt\n",
        "test_preds = model.predict(x_test)\n",
        "test_preds = np.round(test_preds)\n",
        "correct_predictions = float(sum(test_preds == y_test)[0])\n",
        "print(\"Correct predictions:\", correct_predictions)\n",
        "print(\"Total number of test examples:\", len(y_test))\n",
        "print(\"Accuracy of model1: \", correct_predictions/float(len(y_test)))\n",
        "\n",
        "# Creating the Confusion Matrix\n",
        "from sklearn.metrics import confusion_matrix\n",
        "x_pred = model.predict(x_test)\n",
        "x_pred = np.round(x_pred)\n",
        "x_pred = x_pred.argmax(1)\n",
        "y_test_s = y_test.argmax(1)\n",
        "cm = confusion_matrix(y_test_s, x_pred)\n",
        "plt.matshow(cm, cmap=plt.cm.binary, interpolation='nearest')\n",
        "plt.title('Confusion matrix - model1')\n",
        "plt.colorbar()\n",
        "plt.ylabel('expected label')\n",
        "plt.xlabel('actual label')\n",
        "plt.show()"
      ],
      "execution_count": null,
      "outputs": [
        {
          "output_type": "stream",
          "text": [
            "Correct predictions: 1295.0\n",
            "Total number of test examples: 1600\n",
            "Accuracy of model1:  0.809375\n"
          ],
          "name": "stdout"
        },
        {
          "output_type": "display_data",
          "data": {
            "image/png": "[encoded data removed]",
            "text/plain": [
              "<Figure size 288x288 with 2 Axes>"
            ]
          },
          "metadata": {
            "tags": [],
            "needs_background": "light"
          }
        }
      ]
    },
    {
      "cell_type": "code",
      "metadata": {
        "id": "cD8v5_RIGqj6",
        "outputId": "a8519b80-47a3-4dd6-9234-434b347f6672",
        "colab": {
          "base_uri": "https://localhost:8080/",
          "height": 51
        }
      },
      "source": [
        "score = model.evaluate(x_test, y_test, verbose=0)\n",
        "print('Test loss:', score[0])\n",
        "print('Test accuracy:', score[1])"
      ],
      "execution_count": null,
      "outputs": [
        {
          "output_type": "stream",
          "text": [
            "Test loss: 0.9152239260940246\n",
            "Test accuracy: 0.8343883156776428\n"
          ],
          "name": "stdout"
        }
      ]
    },
    {
      "cell_type": "code",
      "metadata": {
        "id": "6teIa1PIGqvf",
        "outputId": "9a351574-c32c-4960-a3b6-5290e97ee3b6",
        "colab": {
          "base_uri": "https://localhost:8080/",
          "height": 72
        }
      },
      "source": [
        "from sklearn.metrics import precision_score, recall_score, f1_score\n",
        "\n",
        "print(\"F1 score\" + \" : \"  + str(f1_score(y_test_s, x_pred, average=\"macro\")))\n",
        "print(\"Precision score\" + \" : \"  + str(precision_score(y_test_s, x_pred, average=\"macro\")))\n",
        "print(\"Recall score\" + \" : \"  + str(recall_score(y_test_s, x_pred, average=\"macro\")))   \n"
      ],
      "execution_count": null,
      "outputs": [
        {
          "output_type": "stream",
          "text": [
            "F1 score : 0.7356410568940532\n",
            "Precision score : 0.7529902977336691\n",
            "Recall score : 0.7236805755925668\n"
          ],
          "name": "stdout"
        }
      ]
    },
    {
      "cell_type": "code",
      "metadata": {
        "id": "A9n8hF8WS2_u"
      },
      "source": [
        ""
      ],
      "execution_count": null,
      "outputs": []
    }
  ]
}