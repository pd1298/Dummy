{
  "nbformat": 4,
  "nbformat_minor": 0,
  "metadata": {
    "colab": {
      "name": "Fraud_Detection_iForest.ipynb",
      "provenance": []
    },
    "kernelspec": {
      "name": "python3",
      "display_name": "Python 3"
    }
  },
  "cells": [
    {
      "cell_type": "code",
      "metadata": {
        "id": "4phM0hV-5YVQ"
      },
      "source": [
        "#!ls \"/content/drive/My Drive\""
      ],
      "execution_count": null,
      "outputs": []
    },
    {
      "cell_type": "code",
      "metadata": {
        "id": "jWGZce9b5qjo"
      },
      "source": [
        "import pandas as pd\n",
        "import numpy as np\n",
        "from sklearn.ensemble import IsolationForest"
      ],
      "execution_count": null,
      "outputs": []
    },
    {
      "cell_type": "code",
      "metadata": {
        "id": "1FJHQS5f5zyX"
      },
      "source": [
        "data = pd.read_csv('/content/drive/My Drive/creditcard.csv')\n",
        "data = data.drop(['Time'] , axis=1)"
      ],
      "execution_count": null,
      "outputs": []
    },
    {
      "cell_type": "code",
      "metadata": {
        "id": "2FPC4bBP7Htk",
        "colab": {
          "base_uri": "https://localhost:8080/",
          "height": 126
        },
        "outputId": "9dba663a-129a-4314-83f6-312bbc6e2d09"
      },
      "source": [
        "data.head(2)"
      ],
      "execution_count": null,
      "outputs": [
        {
          "output_type": "execute_result",
          "data": {
            "text/html": [
              "<div>\n",
              "<style scoped>\n",
              "    .dataframe tbody tr th:only-of-type {\n",
              "        vertical-align: middle;\n",
              "    }\n",
              "\n",
              "    .dataframe tbody tr th {\n",
              "        vertical-align: top;\n",
              "    }\n",
              "\n",
              "    .dataframe thead th {\n",
              "        text-align: right;\n",
              "    }\n",
              "</style>\n",
              "<table border=\"1\" class=\"dataframe\">\n",
              "  <thead>\n",
              "    <tr style=\"text-align: right;\">\n",
              "      <th></th>\n",
              "      <th>V1</th>\n",
              "      <th>V2</th>\n",
              "      <th>V3</th>\n",
              "      <th>V4</th>\n",
              "      <th>V5</th>\n",
              "      <th>V6</th>\n",
              "      <th>V7</th>\n",
              "      <th>V8</th>\n",
              "      <th>V9</th>\n",
              "      <th>V10</th>\n",
              "      <th>V11</th>\n",
              "      <th>V12</th>\n",
              "      <th>V13</th>\n",
              "      <th>V14</th>\n",
              "      <th>V15</th>\n",
              "      <th>V16</th>\n",
              "      <th>V17</th>\n",
              "      <th>V18</th>\n",
              "      <th>V19</th>\n",
              "      <th>V20</th>\n",
              "      <th>V21</th>\n",
              "      <th>V22</th>\n",
              "      <th>V23</th>\n",
              "      <th>V24</th>\n",
              "      <th>V25</th>\n",
              "      <th>V26</th>\n",
              "      <th>V27</th>\n",
              "      <th>V28</th>\n",
              "      <th>Amount</th>\n",
              "      <th>Class</th>\n",
              "    </tr>\n",
              "  </thead>\n",
              "  <tbody>\n",
              "    <tr>\n",
              "      <th>0</th>\n",
              "      <td>-1.359807</td>\n",
              "      <td>-0.072781</td>\n",
              "      <td>2.536347</td>\n",
              "      <td>1.378155</td>\n",
              "      <td>-0.338321</td>\n",
              "      <td>0.462388</td>\n",
              "      <td>0.239599</td>\n",
              "      <td>0.098698</td>\n",
              "      <td>0.363787</td>\n",
              "      <td>0.090794</td>\n",
              "      <td>-0.551600</td>\n",
              "      <td>-0.617801</td>\n",
              "      <td>-0.991390</td>\n",
              "      <td>-0.311169</td>\n",
              "      <td>1.468177</td>\n",
              "      <td>-0.470401</td>\n",
              "      <td>0.207971</td>\n",
              "      <td>0.025791</td>\n",
              "      <td>0.403993</td>\n",
              "      <td>0.251412</td>\n",
              "      <td>-0.018307</td>\n",
              "      <td>0.277838</td>\n",
              "      <td>-0.110474</td>\n",
              "      <td>0.066928</td>\n",
              "      <td>0.128539</td>\n",
              "      <td>-0.189115</td>\n",
              "      <td>0.133558</td>\n",
              "      <td>-0.021053</td>\n",
              "      <td>149.62</td>\n",
              "      <td>0</td>\n",
              "    </tr>\n",
              "    <tr>\n",
              "      <th>1</th>\n",
              "      <td>1.191857</td>\n",
              "      <td>0.266151</td>\n",
              "      <td>0.166480</td>\n",
              "      <td>0.448154</td>\n",
              "      <td>0.060018</td>\n",
              "      <td>-0.082361</td>\n",
              "      <td>-0.078803</td>\n",
              "      <td>0.085102</td>\n",
              "      <td>-0.255425</td>\n",
              "      <td>-0.166974</td>\n",
              "      <td>1.612727</td>\n",
              "      <td>1.065235</td>\n",
              "      <td>0.489095</td>\n",
              "      <td>-0.143772</td>\n",
              "      <td>0.635558</td>\n",
              "      <td>0.463917</td>\n",
              "      <td>-0.114805</td>\n",
              "      <td>-0.183361</td>\n",
              "      <td>-0.145783</td>\n",
              "      <td>-0.069083</td>\n",
              "      <td>-0.225775</td>\n",
              "      <td>-0.638672</td>\n",
              "      <td>0.101288</td>\n",
              "      <td>-0.339846</td>\n",
              "      <td>0.167170</td>\n",
              "      <td>0.125895</td>\n",
              "      <td>-0.008983</td>\n",
              "      <td>0.014724</td>\n",
              "      <td>2.69</td>\n",
              "      <td>0</td>\n",
              "    </tr>\n",
              "  </tbody>\n",
              "</table>\n",
              "</div>"
            ],
            "text/plain": [
              "         V1        V2        V3        V4  ...       V27       V28  Amount  Class\n",
              "0 -1.359807 -0.072781  2.536347  1.378155  ...  0.133558 -0.021053  149.62      0\n",
              "1  1.191857  0.266151  0.166480  0.448154  ... -0.008983  0.014724    2.69      0\n",
              "\n",
              "[2 rows x 30 columns]"
            ]
          },
          "metadata": {
            "tags": []
          },
          "execution_count": 9
        }
      ]
    },
    {
      "cell_type": "code",
      "metadata": {
        "id": "Dx4Tc85MFffW",
        "colab": {
          "base_uri": "https://localhost:8080/",
          "height": 70
        },
        "outputId": "c9d926b3-a4e2-4ed3-f2c6-363666574195"
      },
      "source": [
        "data.Class.value_counts()"
      ],
      "execution_count": null,
      "outputs": [
        {
          "output_type": "execute_result",
          "data": {
            "text/plain": [
              "0    284315\n",
              "1       492\n",
              "Name: Class, dtype: int64"
            ]
          },
          "metadata": {
            "tags": []
          },
          "execution_count": 55
        }
      ]
    },
    {
      "cell_type": "code",
      "metadata": {
        "id": "tTdnH4Vo9Bz7"
      },
      "source": [
        "from sklearn.ensemble import IsolationForest\n",
        "from sklearn.svm import OneClassSVM\n",
        "from sklearn.neighbors import LocalOutlierFactor\n",
        "from sklearn.cluster import KMeans\n",
        "from sklearn.model_selection import train_test_split"
      ],
      "execution_count": null,
      "outputs": []
    },
    {
      "cell_type": "code",
      "metadata": {
        "id": "fyclJzJBBSKL"
      },
      "source": [
        "y_true=data['Class']\n",
        "df_data=data.drop('Class',1)"
      ],
      "execution_count": null,
      "outputs": []
    },
    {
      "cell_type": "code",
      "metadata": {
        "id": "JjGW_UzKA99Q"
      },
      "source": [
        "X_train, X_test, y_train, y_test = train_test_split(df_data, y_true, test_size=0.4, random_state=42)"
      ],
      "execution_count": null,
      "outputs": []
    },
    {
      "cell_type": "code",
      "metadata": {
        "id": "WmbafVELBwbY"
      },
      "source": [
        "## Not required for Isolation Forest\n",
        "def preprocess(df_data):\n",
        "    for col in df_data:\n",
        "        df_data[col]=(df_data[col]-np.min(df_data[col]))/(np.max(df_data[col])-np.min(df_data[col]))\n",
        "    return"
      ],
      "execution_count": null,
      "outputs": []
    },
    {
      "cell_type": "code",
      "metadata": {
        "id": "V9qmYi4yB77q"
      },
      "source": [
        "## Not valid for LOF\n",
        "def train(X,clf,ensembleSize=5,sampleSize=10000):\n",
        "    mdlLst=[]\n",
        "    for n in range(ensembleSize):\n",
        "        X=df_data.sample(sampleSize)\n",
        "        clf.fit(X)\n",
        "        mdlLst.append(clf)\n",
        "    return mdlLst"
      ],
      "execution_count": null,
      "outputs": []
    },
    {
      "cell_type": "code",
      "metadata": {
        "id": "pAuI7nugCES1"
      },
      "source": [
        "## Not valif for LOF\n",
        "def predict(X,mdlLst):\n",
        "    y_pred=np.zeros(X.shape[0])\n",
        "    for clf in mdlLst:\n",
        "        y_pred=np.add(y_pred,clf.decision_function(X).reshape(X.shape[0],))\n",
        "    y_pred=(y_pred*1.0)/len(mdlLst)\n",
        "    return y_pred"
      ],
      "execution_count": null,
      "outputs": []
    },
    {
      "cell_type": "code",
      "metadata": {
        "id": "8mfEHcUtCGnW"
      },
      "source": [
        "from sklearn.metrics import roc_auc_score\n",
        "from sklearn.metrics import confusion_matrix, precision_recall_fscore_support"
      ],
      "execution_count": null,
      "outputs": []
    },
    {
      "cell_type": "code",
      "metadata": {
        "id": "WE76xUJABXQM"
      },
      "source": [
        "alg=IsolationForest(n_estimators=100, max_samples='auto', contamination=0.01, \\\n",
        "                        max_features=1.0, bootstrap=False, n_jobs=-1, random_state=42, verbose=0,behaviour=\"new\")"
      ],
      "execution_count": null,
      "outputs": []
    },
    {
      "cell_type": "code",
      "metadata": {
        "id": "GJNHO13UBylZ",
        "colab": {
          "base_uri": "https://localhost:8080/",
          "height": 195
        },
        "outputId": "0e4253c2-90da-4ae7-aaae-b37e773ebec1"
      },
      "source": [
        "if_mdlLst=train(X_train,alg)"
      ],
      "execution_count": null,
      "outputs": [
        {
          "output_type": "stream",
          "text": [
            "/usr/local/lib/python3.6/dist-packages/sklearn/ensemble/_iforest.py:248: FutureWarning: 'behaviour' is deprecated in 0.22 and will be removed in 0.24. You should not pass or set this parameter.\n",
            "  FutureWarning\n",
            "/usr/local/lib/python3.6/dist-packages/sklearn/ensemble/_iforest.py:248: FutureWarning: 'behaviour' is deprecated in 0.22 and will be removed in 0.24. You should not pass or set this parameter.\n",
            "  FutureWarning\n",
            "/usr/local/lib/python3.6/dist-packages/sklearn/ensemble/_iforest.py:248: FutureWarning: 'behaviour' is deprecated in 0.22 and will be removed in 0.24. You should not pass or set this parameter.\n",
            "  FutureWarning\n",
            "/usr/local/lib/python3.6/dist-packages/sklearn/ensemble/_iforest.py:248: FutureWarning: 'behaviour' is deprecated in 0.22 and will be removed in 0.24. You should not pass or set this parameter.\n",
            "  FutureWarning\n",
            "/usr/local/lib/python3.6/dist-packages/sklearn/ensemble/_iforest.py:248: FutureWarning: 'behaviour' is deprecated in 0.22 and will be removed in 0.24. You should not pass or set this parameter.\n",
            "  FutureWarning\n"
          ],
          "name": "stderr"
        }
      ]
    },
    {
      "cell_type": "code",
      "metadata": {
        "id": "wRDI2ht3BehN",
        "colab": {
          "base_uri": "https://localhost:8080/",
          "height": 35
        },
        "outputId": "9e0aac61-7de1-4e46-b8d3-2b35d3f0df33"
      },
      "source": [
        "%%timeit\n",
        "if_y_pred=predict(X_test,if_mdlLst)\n",
        "if_y_pred=1-if_y_pred\n",
        "\n",
        "#Creating class labels based on decision function\n",
        "if_y_pred_class=if_y_pred.copy()\n",
        "if_y_pred_class[if_y_pred>=np.percentile(if_y_pred,95)]=1\n",
        "if_y_pred_class[if_y_pred<np.percentile(if_y_pred,95)]=0"
      ],
      "execution_count": null,
      "outputs": [
        {
          "output_type": "stream",
          "text": [
            "1 loop, best of 3: 22.2 s per loop\n"
          ],
          "name": "stdout"
        }
      ]
    },
    {
      "cell_type": "code",
      "metadata": {
        "id": "Rio5cQ4pDRUC"
      },
      "source": [
        "if_y_pred=predict(X_test,if_mdlLst)\n",
        "if_y_pred=1-if_y_pred\n",
        "\n",
        "#Creating class labels based on decision function\n",
        "if_y_pred_class=if_y_pred.copy()\n",
        "if_y_pred_class[if_y_pred>=np.percentile(if_y_pred,95)]=1\n",
        "if_y_pred_class[if_y_pred<np.percentile(if_y_pred,95)]=0"
      ],
      "execution_count": null,
      "outputs": []
    },
    {
      "cell_type": "code",
      "metadata": {
        "id": "rtmFJCbRDbIU",
        "colab": {
          "base_uri": "https://localhost:8080/",
          "height": 35
        },
        "outputId": "3daad066-eff6-4613-afe4-fd4904a6021f"
      },
      "source": [
        "roc_auc_score(y_test, if_y_pred_class)\n"
      ],
      "execution_count": null,
      "outputs": [
        {
          "output_type": "execute_result",
          "data": {
            "text/plain": [
              "0.902372446071899"
            ]
          },
          "metadata": {
            "tags": []
          },
          "execution_count": 65
        }
      ]
    },
    {
      "cell_type": "code",
      "metadata": {
        "id": "8zXxpn4vDgBd"
      },
      "source": [
        "if_cm=confusion_matrix(y_test, if_y_pred_class)"
      ],
      "execution_count": null,
      "outputs": []
    },
    {
      "cell_type": "code",
      "metadata": {
        "id": "JJJvJRRLEdgJ",
        "colab": {
          "base_uri": "https://localhost:8080/",
          "height": 291
        },
        "outputId": "d062c1ff-ffae-4c4b-e0f5-988ea5c939cb"
      },
      "source": [
        "import seaborn as sn\n",
        "import matplotlib.pyplot as plt   \n",
        "df_cm = pd.DataFrame(if_cm,\n",
        "                  ['True Normal','True Fraud'],['Pred Normal','Pred Fraud'])\n",
        "plt.figure(figsize = (8,4))\n",
        "sn.set(font_scale=1.4)#for label size\n",
        "sn.heatmap(df_cm, annot=True,annot_kws={\"size\": 16},fmt='g')# font size"
      ],
      "execution_count": null,
      "outputs": [
        {
          "output_type": "execute_result",
          "data": {
            "text/plain": [
              "<matplotlib.axes._subplots.AxesSubplot at 0x7f6312796ba8>"
            ]
          },
          "metadata": {
            "tags": []
          },
          "execution_count": 70
        },
        {
          "output_type": "display_data",
          "data": {
            "image/png": "[encoded data removed]",
            "text/plain": [
              "<Figure size 576x288 with 2 Axes>"
            ]
          },
          "metadata": {
            "tags": []
          }
        }
      ]
    },
    {
      "cell_type": "code",
      "metadata": {
        "id": "UYkeF3g0Do3C",
        "colab": {
          "base_uri": "https://localhost:8080/",
          "height": 35
        },
        "outputId": "e4e34f9d-8781-4255-a786-d642a4a22dfa"
      },
      "source": [
        "precision_recall_fscore_support(y_test, if_y_pred_class, average='weighted')"
      ],
      "execution_count": null,
      "outputs": [
        {
          "output_type": "execute_result",
          "data": {
            "text/plain": [
              "(0.9981131141688346, 0.9511775497485143, 0.9733994733772409, None)"
            ]
          },
          "metadata": {
            "tags": []
          },
          "execution_count": 71
        }
      ]
    },
    {
      "cell_type": "code",
      "metadata": {
        "id": "jza1IzLaKpGp",
        "colab": {
          "base_uri": "https://localhost:8080/",
          "height": 230
        },
        "outputId": "3a2f621b-39d0-4d51-c495-d695b5879836"
      },
      "source": [
        "!pip install eif"
      ],
      "execution_count": null,
      "outputs": [
        {
          "output_type": "stream",
          "text": [
            "Collecting eif\n",
            "\u001b[?25l  Downloading https://files.pythonhosted.org/packages/83/b2/d87d869deeb192ab599c899b91a9ad1d3775d04f5b7adcaf7ff6daa54c24/eif-2.0.2.tar.gz (1.6MB)\n",
            "\r\u001b[K     |▏                               | 10kB 17.3MB/s eta 0:00:01\r\u001b[K     |▍                               | 20kB 6.7MB/s eta 0:00:01\r\u001b[K     |▋                               | 30kB 6.2MB/s eta 0:00:01\r\u001b[K     |▉                               | 40kB 7.1MB/s eta 0:00:01\r\u001b[K     |█                               | 51kB 7.4MB/s eta 0:00:01\r\u001b[K     |█▏                              | 61kB 7.1MB/s eta 0:00:01\r\u001b[K     |█▍                              | 71kB 7.9MB/s eta 0:00:01\r\u001b[K     |█▋                              | 81kB 7.2MB/s eta 0:00:01\r\u001b[K     |█▉                              | 92kB 7.6MB/s eta 0:00:01\r\u001b[K     |██                              | 102kB 7.9MB/s eta 0:00:01\r\u001b[K     |██▎                             | 112kB 7.9MB/s eta 0:00:01\r\u001b[K     |██▍                             | 122kB 7.9MB/s eta 0:00:01\r\u001b[K     |██▋                             | 133kB 7.9MB/s eta 0:00:01\r\u001b[K     |██▉                             | 143kB 7.9MB/s eta 0:00:01\r\u001b[K     |███                             | 153kB 7.9MB/s eta 0:00:01\r\u001b[K     |███▎                            | 163kB 7.9MB/s eta 0:00:01\r\u001b[K     |███▌                            | 174kB 7.9MB/s eta 0:00:01\r\u001b[K     |███▋                            | 184kB 7.9MB/s eta 0:00:01\r\u001b[K     |███▉                            | 194kB 7.9MB/s eta 0:00:01\r\u001b[K     |████                            | 204kB 7.9MB/s eta 0:00:01\r\u001b[K     |████▎                           | 215kB 7.9MB/s eta 0:00:01\r\u001b[K     |████▌                           | 225kB 7.9MB/s eta 0:00:01\r\u001b[K     |████▊                           | 235kB 7.9MB/s eta 0:00:01\r\u001b[K     |████▉                           | 245kB 7.9MB/s eta 0:00:01\r\u001b[K     |█████                           | 256kB 7.9MB/s eta 0:00:01\r\u001b[K     |█████▎                          | 266kB 7.9MB/s eta 0:00:01\r\u001b[K     |█████▌                          | 276kB 7.9MB/s eta 0:00:01\r\u001b[K     |█████▊                          | 286kB 7.9MB/s eta 0:00:01\r\u001b[K     |██████                          | 296kB 7.9MB/s eta 0:00:01\r\u001b[K     |██████                          | 307kB 7.9MB/s eta 0:00:01\r\u001b[K     |██████▎                         | 317kB 7.9MB/s eta 0:00:01\r\u001b[K     |██████▌                         | 327kB 7.9MB/s eta 0:00:01\r\u001b[K     |██████▊                         | 337kB 7.9MB/s eta 0:00:01\r\u001b[K     |███████                         | 348kB 7.9MB/s eta 0:00:01\r\u001b[K     |███████▏                        | 358kB 7.9MB/s eta 0:00:01\r\u001b[K     |███████▎                        | 368kB 7.9MB/s eta 0:00:01\r\u001b[K     |███████▌                        | 378kB 7.9MB/s eta 0:00:01\r\u001b[K     |███████▊                        | 389kB 7.9MB/s eta 0:00:01\r\u001b[K     |████████                        | 399kB 7.9MB/s eta 0:00:01\r\u001b[K     |████████▏                       | 409kB 7.9MB/s eta 0:00:01\r\u001b[K     |████████▍                       | 419kB 7.9MB/s eta 0:00:01\r\u001b[K     |████████▌                       | 430kB 7.9MB/s eta 0:00:01\r\u001b[K     |████████▊                       | 440kB 7.9MB/s eta 0:00:01\r\u001b[K     |█████████                       | 450kB 7.9MB/s eta 0:00:01\r\u001b[K     |█████████▏                      | 460kB 7.9MB/s eta 0:00:01\r\u001b[K     |█████████▍                      | 471kB 7.9MB/s eta 0:00:01\r\u001b[K     |█████████▋                      | 481kB 7.9MB/s eta 0:00:01\r\u001b[K     |█████████▊                      | 491kB 7.9MB/s eta 0:00:01\r\u001b[K     |██████████                      | 501kB 7.9MB/s eta 0:00:01\r\u001b[K     |██████████▏                     | 512kB 7.9MB/s eta 0:00:01\r\u001b[K     |██████████▍                     | 522kB 7.9MB/s eta 0:00:01\r\u001b[K     |██████████▋                     | 532kB 7.9MB/s eta 0:00:01\r\u001b[K     |██████████▊                     | 542kB 7.9MB/s eta 0:00:01\r\u001b[K     |███████████                     | 552kB 7.9MB/s eta 0:00:01\r\u001b[K     |███████████▏                    | 563kB 7.9MB/s eta 0:00:01\r\u001b[K     |███████████▍                    | 573kB 7.9MB/s eta 0:00:01\r\u001b[K     |███████████▋                    | 583kB 7.9MB/s eta 0:00:01\r\u001b[K     |███████████▉                    | 593kB 7.9MB/s eta 0:00:01\r\u001b[K     |████████████                    | 604kB 7.9MB/s eta 0:00:01\r\u001b[K     |████████████▏                   | 614kB 7.9MB/s eta 0:00:01\r\u001b[K     |████████████▍                   | 624kB 7.9MB/s eta 0:00:01\r\u001b[K     |████████████▋                   | 634kB 7.9MB/s eta 0:00:01\r\u001b[K     |████████████▉                   | 645kB 7.9MB/s eta 0:00:01\r\u001b[K     |█████████████                   | 655kB 7.9MB/s eta 0:00:01\r\u001b[K     |█████████████▏                  | 665kB 7.9MB/s eta 0:00:01\r\u001b[K     |█████████████▍                  | 675kB 7.9MB/s eta 0:00:01\r\u001b[K     |█████████████▋                  | 686kB 7.9MB/s eta 0:00:01\r\u001b[K     |█████████████▉                  | 696kB 7.9MB/s eta 0:00:01\r\u001b[K     |██████████████                  | 706kB 7.9MB/s eta 0:00:01\r\u001b[K     |██████████████▎                 | 716kB 7.9MB/s eta 0:00:01\r\u001b[K     |██████████████▍                 | 727kB 7.9MB/s eta 0:00:01\r\u001b[K     |██████████████▋                 | 737kB 7.9MB/s eta 0:00:01\r\u001b[K     |██████████████▉                 | 747kB 7.9MB/s eta 0:00:01\r\u001b[K     |███████████████                 | 757kB 7.9MB/s eta 0:00:01\r\u001b[K     |███████████████▎                | 768kB 7.9MB/s eta 0:00:01\r\u001b[K     |███████████████▌                | 778kB 7.9MB/s eta 0:00:01\r\u001b[K     |███████████████▋                | 788kB 7.9MB/s eta 0:00:01\r\u001b[K     |███████████████▉                | 798kB 7.9MB/s eta 0:00:01\r\u001b[K     |████████████████                | 808kB 7.9MB/s eta 0:00:01\r\u001b[K     |████████████████▎               | 819kB 7.9MB/s eta 0:00:01\r\u001b[K     |████████████████▌               | 829kB 7.9MB/s eta 0:00:01\r\u001b[K     |████████████████▊               | 839kB 7.9MB/s eta 0:00:01\r\u001b[K     |████████████████▉               | 849kB 7.9MB/s eta 0:00:01\r\u001b[K     |█████████████████               | 860kB 7.9MB/s eta 0:00:01\r\u001b[K     |█████████████████▎              | 870kB 7.9MB/s eta 0:00:01\r\u001b[K     |█████████████████▌              | 880kB 7.9MB/s eta 0:00:01\r\u001b[K     |█████████████████▊              | 890kB 7.9MB/s eta 0:00:01\r\u001b[K     |██████████████████              | 901kB 7.9MB/s eta 0:00:01\r\u001b[K     |██████████████████              | 911kB 7.9MB/s eta 0:00:01\r\u001b[K     |██████████████████▎             | 921kB 7.9MB/s eta 0:00:01\r\u001b[K     |██████████████████▌             | 931kB 7.9MB/s eta 0:00:01\r\u001b[K     |██████████████████▊             | 942kB 7.9MB/s eta 0:00:01\r\u001b[K     |███████████████████             | 952kB 7.9MB/s eta 0:00:01\r\u001b[K     |███████████████████▏            | 962kB 7.9MB/s eta 0:00:01\r\u001b[K     |███████████████████▎            | 972kB 7.9MB/s eta 0:00:01\r\u001b[K     |███████████████████▌            | 983kB 7.9MB/s eta 0:00:01\r\u001b[K     |███████████████████▊            | 993kB 7.9MB/s eta 0:00:01\r\u001b[K     |████████████████████            | 1.0MB 7.9MB/s eta 0:00:01\r\u001b[K     |████████████████████▏           | 1.0MB 7.9MB/s eta 0:00:01\r\u001b[K     |████████████████████▎           | 1.0MB 7.9MB/s eta 0:00:01\r\u001b[K     |████████████████████▌           | 1.0MB 7.9MB/s eta 0:00:01\r\u001b[K     |████████████████████▊           | 1.0MB 7.9MB/s eta 0:00:01\r\u001b[K     |█████████████████████           | 1.1MB 7.9MB/s eta 0:00:01\r\u001b[K     |█████████████████████▏          | 1.1MB 7.9MB/s eta 0:00:01\r\u001b[K     |█████████████████████▍          | 1.1MB 7.9MB/s eta 0:00:01\r\u001b[K     |█████████████████████▌          | 1.1MB 7.9MB/s eta 0:00:01\r\u001b[K     |█████████████████████▊          | 1.1MB 7.9MB/s eta 0:00:01\r\u001b[K     |██████████████████████          | 1.1MB 7.9MB/s eta 0:00:01\r\u001b[K     |██████████████████████▏         | 1.1MB 7.9MB/s eta 0:00:01\r\u001b[K     |██████████████████████▍         | 1.1MB 7.9MB/s eta 0:00:01\r\u001b[K     |██████████████████████▋         | 1.1MB 7.9MB/s eta 0:00:01\r\u001b[K     |██████████████████████▊         | 1.1MB 7.9MB/s eta 0:00:01\r\u001b[K     |███████████████████████         | 1.2MB 7.9MB/s eta 0:00:01\r\u001b[K     |███████████████████████▏        | 1.2MB 7.9MB/s eta 0:00:01\r\u001b[K     |███████████████████████▍        | 1.2MB 7.9MB/s eta 0:00:01\r\u001b[K     |███████████████████████▋        | 1.2MB 7.9MB/s eta 0:00:01\r\u001b[K     |███████████████████████▉        | 1.2MB 7.9MB/s eta 0:00:01\r\u001b[K     |████████████████████████        | 1.2MB 7.9MB/s eta 0:00:01\r\u001b[K     |████████████████████████▏       | 1.2MB 7.9MB/s eta 0:00:01\r\u001b[K     |████████████████████████▍       | 1.2MB 7.9MB/s eta 0:00:01\r\u001b[K     |████████████████████████▋       | 1.2MB 7.9MB/s eta 0:00:01\r\u001b[K     |████████████████████████▉       | 1.2MB 7.9MB/s eta 0:00:01\r\u001b[K     |█████████████████████████       | 1.3MB 7.9MB/s eta 0:00:01\r\u001b[K     |█████████████████████████▏      | 1.3MB 7.9MB/s eta 0:00:01\r\u001b[K     |█████████████████████████▍      | 1.3MB 7.9MB/s eta 0:00:01\r\u001b[K     |█████████████████████████▋      | 1.3MB 7.9MB/s eta 0:00:01\r\u001b[K     |█████████████████████████▉      | 1.3MB 7.9MB/s eta 0:00:01\r\u001b[K     |██████████████████████████      | 1.3MB 7.9MB/s eta 0:00:01\r\u001b[K     |██████████████████████████▎     | 1.3MB 7.9MB/s eta 0:00:01\r\u001b[K     |██████████████████████████▍     | 1.3MB 7.9MB/s eta 0:00:01\r\u001b[K     |██████████████████████████▋     | 1.3MB 7.9MB/s eta 0:00:01\r\u001b[K     |██████████████████████████▉     | 1.4MB 7.9MB/s eta 0:00:01\r\u001b[K     |███████████████████████████     | 1.4MB 7.9MB/s eta 0:00:01\r\u001b[K     |███████████████████████████▎    | 1.4MB 7.9MB/s eta 0:00:01\r\u001b[K     |███████████████████████████▌    | 1.4MB 7.9MB/s eta 0:00:01\r\u001b[K     |███████████████████████████▋    | 1.4MB 7.9MB/s eta 0:00:01\r\u001b[K     |███████████████████████████▉    | 1.4MB 7.9MB/s eta 0:00:01\r\u001b[K     |████████████████████████████    | 1.4MB 7.9MB/s eta 0:00:01\r\u001b[K     |████████████████████████████▎   | 1.4MB 7.9MB/s eta 0:00:01\r\u001b[K     |████████████████████████████▌   | 1.4MB 7.9MB/s eta 0:00:01\r\u001b[K     |████████████████████████████▊   | 1.4MB 7.9MB/s eta 0:00:01\r\u001b[K     |████████████████████████████▉   | 1.5MB 7.9MB/s eta 0:00:01\r\u001b[K     |█████████████████████████████   | 1.5MB 7.9MB/s eta 0:00:01\r\u001b[K     |█████████████████████████████▎  | 1.5MB 7.9MB/s eta 0:00:01\r\u001b[K     |█████████████████████████████▌  | 1.5MB 7.9MB/s eta 0:00:01\r\u001b[K     |█████████████████████████████▊  | 1.5MB 7.9MB/s eta 0:00:01\r\u001b[K     |██████████████████████████████  | 1.5MB 7.9MB/s eta 0:00:01\r\u001b[K     |██████████████████████████████  | 1.5MB 7.9MB/s eta 0:00:01\r\u001b[K     |██████████████████████████████▎ | 1.5MB 7.9MB/s eta 0:00:01\r\u001b[K     |██████████████████████████████▌ | 1.5MB 7.9MB/s eta 0:00:01\r\u001b[K     |██████████████████████████████▊ | 1.5MB 7.9MB/s eta 0:00:01\r\u001b[K     |███████████████████████████████ | 1.6MB 7.9MB/s eta 0:00:01\r\u001b[K     |███████████████████████████████ | 1.6MB 7.9MB/s eta 0:00:01\r\u001b[K     |███████████████████████████████▎| 1.6MB 7.9MB/s eta 0:00:01\r\u001b[K     |███████████████████████████████▌| 1.6MB 7.9MB/s eta 0:00:01\r\u001b[K     |███████████████████████████████▊| 1.6MB 7.9MB/s eta 0:00:01\r\u001b[K     |████████████████████████████████| 1.6MB 7.9MB/s eta 0:00:01\r\u001b[K     |████████████████████████████████| 1.6MB 7.9MB/s \n",
            "\u001b[?25hRequirement already satisfied: numpy in /usr/local/lib/python3.6/dist-packages (from eif) (1.18.4)\n",
            "Requirement already satisfied: cython in /usr/local/lib/python3.6/dist-packages (from eif) (0.29.19)\n",
            "Building wheels for collected packages: eif\n",
            "  Building wheel for eif (setup.py) ... \u001b[?25l\u001b[?25hdone\n",
            "  Created wheel for eif: filename=eif-2.0.2-cp36-cp36m-linux_x86_64.whl size=251095 sha256=ff986a143dafec938fdf343a38c9c6416e24ffb460cebc679245cd961b10fb8b\n",
            "  Stored in directory: /root/.cache/pip/wheels/24/ff/c3/6a610ba4a6c8e968483ba15a0e38feacd7c0a26c932b2f91bd\n",
            "Successfully built eif\n",
            "Installing collected packages: eif\n",
            "Successfully installed eif-2.0.2\n"
          ],
          "name": "stdout"
        }
      ]
    },
    {
      "cell_type": "code",
      "metadata": {
        "id": "GNatI1nPKpEb"
      },
      "source": [
        "import eif as iso ## importing extended Isolation Forest\n"
      ],
      "execution_count": null,
      "outputs": []
    },
    {
      "cell_type": "code",
      "metadata": {
        "id": "rui_icV-QBBk"
      },
      "source": [
        "X_train1=np.array(X_train)\n",
        "X_test1=np.array(X_test)"
      ],
      "execution_count": null,
      "outputs": []
    },
    {
      "cell_type": "code",
      "metadata": {
        "id": "tgoqysP6KpCN"
      },
      "source": [
        "F1 = iso.iForest(X_train1,ntrees=100, sample_size=512, ExtensionLevel=1)"
      ],
      "execution_count": null,
      "outputs": []
    },
    {
      "cell_type": "code",
      "metadata": {
        "id": "EPAfnenoKpAJ"
      },
      "source": [
        "pred=F1.compute_paths(X_test1)"
      ],
      "execution_count": null,
      "outputs": []
    },
    {
      "cell_type": "code",
      "metadata": {
        "id": "P4VwboRWKo5i"
      },
      "source": [
        "pred_class=np.where(pred>0.467,1,0)"
      ],
      "execution_count": null,
      "outputs": []
    },
    {
      "cell_type": "code",
      "metadata": {
        "id": "J3NDoRY2RCOv"
      },
      "source": [
        "eif_cm=confusion_matrix(y_test,pred_class)"
      ],
      "execution_count": null,
      "outputs": []
    },
    {
      "cell_type": "code",
      "metadata": {
        "id": "sGE4OU-MKo2h",
        "colab": {
          "base_uri": "https://localhost:8080/",
          "height": 291
        },
        "outputId": "14a657e4-620d-4383-d599-e5c05c596400"
      },
      "source": [
        "df_cm = pd.DataFrame(eif_cm,\n",
        "                  ['True Normal','True Fraud'],['Pred Normal','Pred Fraud'])\n",
        "plt.figure(figsize = (8,4))\n",
        "sn.set(font_scale=1.4)#for label size\n",
        "sn.heatmap(df_cm, annot=True,annot_kws={\"size\": 16},fmt='g')# font size"
      ],
      "execution_count": null,
      "outputs": [
        {
          "output_type": "execute_result",
          "data": {
            "text/plain": [
              "<matplotlib.axes._subplots.AxesSubplot at 0x7f63108caef0>"
            ]
          },
          "metadata": {
            "tags": []
          },
          "execution_count": 249
        },
        {
          "output_type": "display_data",
          "data": {
            "image/png": "[encoded data removed]",
            "text/plain": [
              "<Figure size 576x288 with 2 Axes>"
            ]
          },
          "metadata": {
            "tags": []
          }
        }
      ]
    },
    {
      "cell_type": "code",
      "metadata": {
        "id": "QGhppTR5KoyD",
        "colab": {
          "base_uri": "https://localhost:8080/",
          "height": 35
        },
        "outputId": "ec877f98-5043-4e96-d875-f3fd22382215"
      },
      "source": [
        "precision_recall_fscore_support(y_test, pred_class, average='weighted')"
      ],
      "execution_count": null,
      "outputs": [
        {
          "output_type": "execute_result",
          "data": {
            "text/plain": [
              "(0.998138781201012, 0.9561984849415833, 0.9760406768983134, None)"
            ]
          },
          "metadata": {
            "tags": []
          },
          "execution_count": 250
        }
      ]
    },
    {
      "cell_type": "code",
      "metadata": {
        "id": "piG7nyS3FRZJ"
      },
      "source": [
        "from sklearn.ensemble import RandomForestClassifier\n",
        "rf=RandomForestClassifier()"
      ],
      "execution_count": null,
      "outputs": []
    },
    {
      "cell_type": "code",
      "metadata": {
        "id": "gCcVSnf7GuXW",
        "colab": {
          "base_uri": "https://localhost:8080/",
          "height": 159
        },
        "outputId": "d20bd4f3-49a7-4964-f671-24d4c9de1c9a"
      },
      "source": [
        "rf.fit(X_train,y_train)"
      ],
      "execution_count": null,
      "outputs": [
        {
          "output_type": "execute_result",
          "data": {
            "text/plain": [
              "RandomForestClassifier(bootstrap=True, ccp_alpha=0.0, class_weight=None,\n",
              "                       criterion='gini', max_depth=None, max_features='auto',\n",
              "                       max_leaf_nodes=None, max_samples=None,\n",
              "                       min_impurity_decrease=0.0, min_impurity_split=None,\n",
              "                       min_samples_leaf=1, min_samples_split=2,\n",
              "                       min_weight_fraction_leaf=0.0, n_estimators=100,\n",
              "                       n_jobs=None, oob_score=False, random_state=None,\n",
              "                       verbose=0, warm_start=False)"
            ]
          },
          "metadata": {
            "tags": []
          },
          "execution_count": 252
        }
      ]
    },
    {
      "cell_type": "code",
      "metadata": {
        "id": "AtZsm7pDG6rl"
      },
      "source": [
        "pred_rf=rf.predict(X_test)"
      ],
      "execution_count": null,
      "outputs": []
    },
    {
      "cell_type": "code",
      "metadata": {
        "id": "8COXzVbaHBVW"
      },
      "source": [
        "rf_cm=confusion_matrix(y_test, pred_rf)"
      ],
      "execution_count": null,
      "outputs": []
    },
    {
      "cell_type": "code",
      "metadata": {
        "id": "y5XaGXuZHLui",
        "colab": {
          "base_uri": "https://localhost:8080/",
          "height": 291
        },
        "outputId": "6555a0a8-55a3-4f0c-88c6-6065718d12e2"
      },
      "source": [
        "df_cm = pd.DataFrame(rf_cm,\n",
        "                  ['True Normal','True Fraud'],['Pred Normal','Pred Fraud'])\n",
        "plt.figure(figsize = (8,4))\n",
        "sn.set(font_scale=1.4)#for label size\n",
        "sn.heatmap(df_cm, annot=True,annot_kws={\"size\": 16},fmt='g')# font size"
      ],
      "execution_count": null,
      "outputs": [
        {
          "output_type": "execute_result",
          "data": {
            "text/plain": [
              "<matplotlib.axes._subplots.AxesSubplot at 0x7f63108afef0>"
            ]
          },
          "metadata": {
            "tags": []
          },
          "execution_count": 255
        },
        {
          "output_type": "display_data",
          "data": {
            "image/png": "[encoded data removed]",
            "text/plain": [
              "<Figure size 576x288 with 2 Axes>"
            ]
          },
          "metadata": {
            "tags": []
          }
        }
      ]
    },
    {
      "cell_type": "code",
      "metadata": {
        "id": "gucwvj7zHTgQ",
        "colab": {
          "base_uri": "https://localhost:8080/",
          "height": 35
        },
        "outputId": "ea95e632-2551-4053-9f88-d125b6e617e6"
      },
      "source": [
        "precision_recall_fscore_support(y_test, pred_rf, average='weighted')"
      ],
      "execution_count": null,
      "outputs": [
        {
          "output_type": "execute_result",
          "data": {
            "text/plain": [
              "(0.9995256543683471, 0.9995435513460846, 0.9995241305054374, None)"
            ]
          },
          "metadata": {
            "tags": []
          },
          "execution_count": 256
        }
      ]
    }
  ]
}